{
 "cells": [
  {
   "cell_type": "code",
   "execution_count": 1,
   "metadata": {},
   "outputs": [
    {
     "data": {
      "text/plain": [
       "{'cod': '200',\n",
       " 'message': 0,\n",
       " 'cnt': 40,\n",
       " 'list': [{'dt': 1718560800,\n",
       "   'main': {'temp': 28.11,\n",
       "    'feels_like': 32.06,\n",
       "    'temp_min': 27.6,\n",
       "    'temp_max': 28.11,\n",
       "    'pressure': 1008,\n",
       "    'sea_level': 1008,\n",
       "    'grnd_level': 1007,\n",
       "    'humidity': 78,\n",
       "    'temp_kf': 0.51},\n",
       "   'weather': [{'id': 803,\n",
       "     'main': 'Clouds',\n",
       "     'description': 'broken clouds',\n",
       "     'icon': '04n'}],\n",
       "   'clouds': {'all': 60},\n",
       "   'wind': {'speed': 2.54, 'deg': 221, 'gust': 5.37},\n",
       "   'visibility': 10000,\n",
       "   'pop': 0.47,\n",
       "   'sys': {'pod': 'n'},\n",
       "   'dt_txt': '2024-06-16 18:00:00'},\n",
       "  {'dt': 1718571600,\n",
       "   'main': {'temp': 27.44,\n",
       "    'feels_like': 30.51,\n",
       "    'temp_min': 26.98,\n",
       "    'temp_max': 27.44,\n",
       "    'pressure': 1008,\n",
       "    'sea_level': 1008,\n",
       "    'grnd_level': 1007,\n",
       "    'humidity': 78,\n",
       "    'temp_kf': 0.46},\n",
       "   'weather': [{'id': 803,\n",
       "     'main': 'Clouds',\n",
       "     'description': 'broken clouds',\n",
       "     'icon': '04n'}],\n",
       "   'clouds': {'all': 79},\n",
       "   'wind': {'speed': 2.12, 'deg': 235, 'gust': 5.1},\n",
       "   'visibility': 10000,\n",
       "   'pop': 0,\n",
       "   'sys': {'pod': 'n'},\n",
       "   'dt_txt': '2024-06-16 21:00:00'},\n",
       "  {'dt': 1718582400,\n",
       "   'main': {'temp': 27.61,\n",
       "    'feels_like': 30.89,\n",
       "    'temp_min': 27.61,\n",
       "    'temp_max': 27.61,\n",
       "    'pressure': 1009,\n",
       "    'sea_level': 1009,\n",
       "    'grnd_level': 1008,\n",
       "    'humidity': 78,\n",
       "    'temp_kf': 0},\n",
       "   'weather': [{'id': 500,\n",
       "     'main': 'Rain',\n",
       "     'description': 'light rain',\n",
       "     'icon': '10d'}],\n",
       "   'clouds': {'all': 86},\n",
       "   'wind': {'speed': 1.92, 'deg': 220, 'gust': 3.03},\n",
       "   'visibility': 10000,\n",
       "   'pop': 0.25,\n",
       "   'rain': {'3h': 0.44},\n",
       "   'sys': {'pod': 'd'},\n",
       "   'dt_txt': '2024-06-17 00:00:00'},\n",
       "  {'dt': 1718593200,\n",
       "   'main': {'temp': 32.86,\n",
       "    'feels_like': 36.58,\n",
       "    'temp_min': 32.86,\n",
       "    'temp_max': 32.86,\n",
       "    'pressure': 1009,\n",
       "    'sea_level': 1009,\n",
       "    'grnd_level': 1009,\n",
       "    'humidity': 52,\n",
       "    'temp_kf': 0},\n",
       "   'weather': [{'id': 500,\n",
       "     'main': 'Rain',\n",
       "     'description': 'light rain',\n",
       "     'icon': '10d'}],\n",
       "   'clouds': {'all': 75},\n",
       "   'wind': {'speed': 3.97, 'deg': 247, 'gust': 5.25},\n",
       "   'visibility': 10000,\n",
       "   'pop': 0.63,\n",
       "   'rain': {'3h': 1.02},\n",
       "   'sys': {'pod': 'd'},\n",
       "   'dt_txt': '2024-06-17 03:00:00'},\n",
       "  {'dt': 1718604000,\n",
       "   'main': {'temp': 34.97,\n",
       "    'feels_like': 37.78,\n",
       "    'temp_min': 34.97,\n",
       "    'temp_max': 34.97,\n",
       "    'pressure': 1007,\n",
       "    'sea_level': 1007,\n",
       "    'grnd_level': 1006,\n",
       "    'humidity': 42,\n",
       "    'temp_kf': 0},\n",
       "   'weather': [{'id': 803,\n",
       "     'main': 'Clouds',\n",
       "     'description': 'broken clouds',\n",
       "     'icon': '04d'}],\n",
       "   'clouds': {'all': 78},\n",
       "   'wind': {'speed': 3.58, 'deg': 243, 'gust': 4.81},\n",
       "   'visibility': 10000,\n",
       "   'pop': 0.47,\n",
       "   'sys': {'pod': 'd'},\n",
       "   'dt_txt': '2024-06-17 06:00:00'},\n",
       "  {'dt': 1718614800,\n",
       "   'main': {'temp': 31.49,\n",
       "    'feels_like': 35.64,\n",
       "    'temp_min': 31.49,\n",
       "    'temp_max': 31.49,\n",
       "    'pressure': 1006,\n",
       "    'sea_level': 1006,\n",
       "    'grnd_level': 1006,\n",
       "    'humidity': 59,\n",
       "    'temp_kf': 0},\n",
       "   'weather': [{'id': 500,\n",
       "     'main': 'Rain',\n",
       "     'description': 'light rain',\n",
       "     'icon': '10d'}],\n",
       "   'clouds': {'all': 100},\n",
       "   'wind': {'speed': 1.94, 'deg': 172, 'gust': 4.2},\n",
       "   'visibility': 10000,\n",
       "   'pop': 0.21,\n",
       "   'rain': {'3h': 0.15},\n",
       "   'sys': {'pod': 'd'},\n",
       "   'dt_txt': '2024-06-17 09:00:00'},\n",
       "  {'dt': 1718625600,\n",
       "   'main': {'temp': 30.39,\n",
       "    'feels_like': 33.81,\n",
       "    'temp_min': 30.39,\n",
       "    'temp_max': 30.39,\n",
       "    'pressure': 1007,\n",
       "    'sea_level': 1007,\n",
       "    'grnd_level': 1007,\n",
       "    'humidity': 61,\n",
       "    'temp_kf': 0},\n",
       "   'weather': [{'id': 804,\n",
       "     'main': 'Clouds',\n",
       "     'description': 'overcast clouds',\n",
       "     'icon': '04n'}],\n",
       "   'clouds': {'all': 99},\n",
       "   'wind': {'speed': 2.37, 'deg': 206, 'gust': 6.18},\n",
       "   'visibility': 10000,\n",
       "   'pop': 0.19,\n",
       "   'sys': {'pod': 'n'},\n",
       "   'dt_txt': '2024-06-17 12:00:00'},\n",
       "  {'dt': 1718636400,\n",
       "   'main': {'temp': 28.45,\n",
       "    'feels_like': 31.41,\n",
       "    'temp_min': 28.45,\n",
       "    'temp_max': 28.45,\n",
       "    'pressure': 1009,\n",
       "    'sea_level': 1009,\n",
       "    'grnd_level': 1009,\n",
       "    'humidity': 69,\n",
       "    'temp_kf': 0},\n",
       "   'weather': [{'id': 804,\n",
       "     'main': 'Clouds',\n",
       "     'description': 'overcast clouds',\n",
       "     'icon': '04n'}],\n",
       "   'clouds': {'all': 95},\n",
       "   'wind': {'speed': 3.15, 'deg': 225, 'gust': 7.58},\n",
       "   'visibility': 10000,\n",
       "   'pop': 0.17,\n",
       "   'sys': {'pod': 'n'},\n",
       "   'dt_txt': '2024-06-17 15:00:00'},\n",
       "  {'dt': 1718647200,\n",
       "   'main': {'temp': 27.35,\n",
       "    'feels_like': 29.98,\n",
       "    'temp_min': 27.35,\n",
       "    'temp_max': 27.35,\n",
       "    'pressure': 1008,\n",
       "    'sea_level': 1008,\n",
       "    'grnd_level': 1008,\n",
       "    'humidity': 75,\n",
       "    'temp_kf': 0},\n",
       "   'weather': [{'id': 804,\n",
       "     'main': 'Clouds',\n",
       "     'description': 'overcast clouds',\n",
       "     'icon': '04n'}],\n",
       "   'clouds': {'all': 97},\n",
       "   'wind': {'speed': 2.88, 'deg': 226, 'gust': 7.9},\n",
       "   'visibility': 10000,\n",
       "   'pop': 0.13,\n",
       "   'sys': {'pod': 'n'},\n",
       "   'dt_txt': '2024-06-17 18:00:00'},\n",
       "  {'dt': 1718658000,\n",
       "   'main': {'temp': 26.59,\n",
       "    'feels_like': 26.59,\n",
       "    'temp_min': 26.59,\n",
       "    'temp_max': 26.59,\n",
       "    'pressure': 1008,\n",
       "    'sea_level': 1008,\n",
       "    'grnd_level': 1007,\n",
       "    'humidity': 80,\n",
       "    'temp_kf': 0},\n",
       "   'weather': [{'id': 804,\n",
       "     'main': 'Clouds',\n",
       "     'description': 'overcast clouds',\n",
       "     'icon': '04n'}],\n",
       "   'clouds': {'all': 99},\n",
       "   'wind': {'speed': 2.15, 'deg': 220, 'gust': 5.38},\n",
       "   'visibility': 10000,\n",
       "   'pop': 0.13,\n",
       "   'sys': {'pod': 'n'},\n",
       "   'dt_txt': '2024-06-17 21:00:00'},\n",
       "  {'dt': 1718668800,\n",
       "   'main': {'temp': 27.91,\n",
       "    'feels_like': 31.16,\n",
       "    'temp_min': 27.91,\n",
       "    'temp_max': 27.91,\n",
       "    'pressure': 1009,\n",
       "    'sea_level': 1009,\n",
       "    'grnd_level': 1008,\n",
       "    'humidity': 75,\n",
       "    'temp_kf': 0},\n",
       "   'weather': [{'id': 500,\n",
       "     'main': 'Rain',\n",
       "     'description': 'light rain',\n",
       "     'icon': '10d'}],\n",
       "   'clouds': {'all': 100},\n",
       "   'wind': {'speed': 2.31, 'deg': 229, 'gust': 5.58},\n",
       "   'visibility': 10000,\n",
       "   'pop': 0.37,\n",
       "   'rain': {'3h': 0.33},\n",
       "   'sys': {'pod': 'd'},\n",
       "   'dt_txt': '2024-06-18 00:00:00'},\n",
       "  {'dt': 1718679600,\n",
       "   'main': {'temp': 32.82,\n",
       "    'feels_like': 36.21,\n",
       "    'temp_min': 32.82,\n",
       "    'temp_max': 32.82,\n",
       "    'pressure': 1008,\n",
       "    'sea_level': 1008,\n",
       "    'grnd_level': 1008,\n",
       "    'humidity': 51,\n",
       "    'temp_kf': 0},\n",
       "   'weather': [{'id': 804,\n",
       "     'main': 'Clouds',\n",
       "     'description': 'overcast clouds',\n",
       "     'icon': '04d'}],\n",
       "   'clouds': {'all': 100},\n",
       "   'wind': {'speed': 3.59, 'deg': 250, 'gust': 4.9},\n",
       "   'visibility': 10000,\n",
       "   'pop': 0,\n",
       "   'sys': {'pod': 'd'},\n",
       "   'dt_txt': '2024-06-18 03:00:00'},\n",
       "  {'dt': 1718690400,\n",
       "   'main': {'temp': 36.19,\n",
       "    'feels_like': 39.53,\n",
       "    'temp_min': 36.19,\n",
       "    'temp_max': 36.19,\n",
       "    'pressure': 1006,\n",
       "    'sea_level': 1006,\n",
       "    'grnd_level': 1005,\n",
       "    'humidity': 40,\n",
       "    'temp_kf': 0},\n",
       "   'weather': [{'id': 804,\n",
       "     'main': 'Clouds',\n",
       "     'description': 'overcast clouds',\n",
       "     'icon': '04d'}],\n",
       "   'clouds': {'all': 100},\n",
       "   'wind': {'speed': 3.81, 'deg': 249, 'gust': 5.63},\n",
       "   'visibility': 10000,\n",
       "   'pop': 0,\n",
       "   'sys': {'pod': 'd'},\n",
       "   'dt_txt': '2024-06-18 06:00:00'},\n",
       "  {'dt': 1718701200,\n",
       "   'main': {'temp': 32.89,\n",
       "    'feels_like': 36.65,\n",
       "    'temp_min': 32.89,\n",
       "    'temp_max': 32.89,\n",
       "    'pressure': 1004,\n",
       "    'sea_level': 1004,\n",
       "    'grnd_level': 1003,\n",
       "    'humidity': 52,\n",
       "    'temp_kf': 0},\n",
       "   'weather': [{'id': 500,\n",
       "     'main': 'Rain',\n",
       "     'description': 'light rain',\n",
       "     'icon': '10d'}],\n",
       "   'clouds': {'all': 100},\n",
       "   'wind': {'speed': 2.5, 'deg': 201, 'gust': 5.58},\n",
       "   'visibility': 10000,\n",
       "   'pop': 0.28,\n",
       "   'rain': {'3h': 0.13},\n",
       "   'sys': {'pod': 'd'},\n",
       "   'dt_txt': '2024-06-18 09:00:00'},\n",
       "  {'dt': 1718712000,\n",
       "   'main': {'temp': 30.47,\n",
       "    'feels_like': 35.17,\n",
       "    'temp_min': 30.47,\n",
       "    'temp_max': 30.47,\n",
       "    'pressure': 1005,\n",
       "    'sea_level': 1005,\n",
       "    'grnd_level': 1005,\n",
       "    'humidity': 66,\n",
       "    'temp_kf': 0},\n",
       "   'weather': [{'id': 804,\n",
       "     'main': 'Clouds',\n",
       "     'description': 'overcast clouds',\n",
       "     'icon': '04n'}],\n",
       "   'clouds': {'all': 99},\n",
       "   'wind': {'speed': 2.9, 'deg': 173, 'gust': 6.98},\n",
       "   'visibility': 10000,\n",
       "   'pop': 0.16,\n",
       "   'sys': {'pod': 'n'},\n",
       "   'dt_txt': '2024-06-18 12:00:00'},\n",
       "  {'dt': 1718722800,\n",
       "   'main': {'temp': 28.88,\n",
       "    'feels_like': 32.47,\n",
       "    'temp_min': 28.88,\n",
       "    'temp_max': 28.88,\n",
       "    'pressure': 1008,\n",
       "    'sea_level': 1008,\n",
       "    'grnd_level': 1008,\n",
       "    'humidity': 70,\n",
       "    'temp_kf': 0},\n",
       "   'weather': [{'id': 500,\n",
       "     'main': 'Rain',\n",
       "     'description': 'light rain',\n",
       "     'icon': '10n'}],\n",
       "   'clouds': {'all': 62},\n",
       "   'wind': {'speed': 3.88, 'deg': 230, 'gust': 8.8},\n",
       "   'visibility': 10000,\n",
       "   'pop': 0.65,\n",
       "   'rain': {'3h': 0.15},\n",
       "   'sys': {'pod': 'n'},\n",
       "   'dt_txt': '2024-06-18 15:00:00'},\n",
       "  {'dt': 1718733600,\n",
       "   'main': {'temp': 27.68,\n",
       "    'feels_like': 30.92,\n",
       "    'temp_min': 27.68,\n",
       "    'temp_max': 27.68,\n",
       "    'pressure': 1007,\n",
       "    'sea_level': 1007,\n",
       "    'grnd_level': 1007,\n",
       "    'humidity': 77,\n",
       "    'temp_kf': 0},\n",
       "   'weather': [{'id': 802,\n",
       "     'main': 'Clouds',\n",
       "     'description': 'scattered clouds',\n",
       "     'icon': '03n'}],\n",
       "   'clouds': {'all': 47},\n",
       "   'wind': {'speed': 3.48, 'deg': 229, 'gust': 8.53},\n",
       "   'visibility': 10000,\n",
       "   'pop': 0.61,\n",
       "   'sys': {'pod': 'n'},\n",
       "   'dt_txt': '2024-06-18 18:00:00'},\n",
       "  {'dt': 1718744400,\n",
       "   'main': {'temp': 26.72,\n",
       "    'feels_like': 29.21,\n",
       "    'temp_min': 26.72,\n",
       "    'temp_max': 26.72,\n",
       "    'pressure': 1007,\n",
       "    'sea_level': 1007,\n",
       "    'grnd_level': 1006,\n",
       "    'humidity': 81,\n",
       "    'temp_kf': 0},\n",
       "   'weather': [{'id': 500,\n",
       "     'main': 'Rain',\n",
       "     'description': 'light rain',\n",
       "     'icon': '10n'}],\n",
       "   'clouds': {'all': 44},\n",
       "   'wind': {'speed': 2.68, 'deg': 218, 'gust': 7.22},\n",
       "   'visibility': 10000,\n",
       "   'pop': 0.23,\n",
       "   'rain': {'3h': 0.15},\n",
       "   'sys': {'pod': 'n'},\n",
       "   'dt_txt': '2024-06-18 21:00:00'},\n",
       "  {'dt': 1718755200,\n",
       "   'main': {'temp': 27.95,\n",
       "    'feels_like': 31.25,\n",
       "    'temp_min': 27.95,\n",
       "    'temp_max': 27.95,\n",
       "    'pressure': 1008,\n",
       "    'sea_level': 1008,\n",
       "    'grnd_level': 1008,\n",
       "    'humidity': 75,\n",
       "    'temp_kf': 0},\n",
       "   'weather': [{'id': 803,\n",
       "     'main': 'Clouds',\n",
       "     'description': 'broken clouds',\n",
       "     'icon': '04d'}],\n",
       "   'clouds': {'all': 65},\n",
       "   'wind': {'speed': 3.09, 'deg': 219, 'gust': 6.72},\n",
       "   'visibility': 10000,\n",
       "   'pop': 0.33,\n",
       "   'sys': {'pod': 'd'},\n",
       "   'dt_txt': '2024-06-19 00:00:00'},\n",
       "  {'dt': 1718766000,\n",
       "   'main': {'temp': 33.2,\n",
       "    'feels_like': 36.7,\n",
       "    'temp_min': 33.2,\n",
       "    'temp_max': 33.2,\n",
       "    'pressure': 1008,\n",
       "    'sea_level': 1008,\n",
       "    'grnd_level': 1007,\n",
       "    'humidity': 50,\n",
       "    'temp_kf': 0},\n",
       "   'weather': [{'id': 804,\n",
       "     'main': 'Clouds',\n",
       "     'description': 'overcast clouds',\n",
       "     'icon': '04d'}],\n",
       "   'clouds': {'all': 94},\n",
       "   'wind': {'speed': 4.53, 'deg': 246, 'gust': 5.8},\n",
       "   'visibility': 10000,\n",
       "   'pop': 0.07,\n",
       "   'sys': {'pod': 'd'},\n",
       "   'dt_txt': '2024-06-19 03:00:00'},\n",
       "  {'dt': 1718776800,\n",
       "   'main': {'temp': 35.12,\n",
       "    'feels_like': 38.4,\n",
       "    'temp_min': 35.12,\n",
       "    'temp_max': 35.12,\n",
       "    'pressure': 1005,\n",
       "    'sea_level': 1005,\n",
       "    'grnd_level': 1004,\n",
       "    'humidity': 43,\n",
       "    'temp_kf': 0},\n",
       "   'weather': [{'id': 804,\n",
       "     'main': 'Clouds',\n",
       "     'description': 'overcast clouds',\n",
       "     'icon': '04d'}],\n",
       "   'clouds': {'all': 93},\n",
       "   'wind': {'speed': 4.45, 'deg': 252, 'gust': 5.53},\n",
       "   'visibility': 10000,\n",
       "   'pop': 0.07,\n",
       "   'sys': {'pod': 'd'},\n",
       "   'dt_txt': '2024-06-19 06:00:00'},\n",
       "  {'dt': 1718787600,\n",
       "   'main': {'temp': 32.34,\n",
       "    'feels_like': 36.65,\n",
       "    'temp_min': 32.34,\n",
       "    'temp_max': 32.34,\n",
       "    'pressure': 1004,\n",
       "    'sea_level': 1004,\n",
       "    'grnd_level': 1003,\n",
       "    'humidity': 56,\n",
       "    'temp_kf': 0},\n",
       "   'weather': [{'id': 500,\n",
       "     'main': 'Rain',\n",
       "     'description': 'light rain',\n",
       "     'icon': '10d'}],\n",
       "   'clouds': {'all': 100},\n",
       "   'wind': {'speed': 2.16, 'deg': 271, 'gust': 4.81},\n",
       "   'visibility': 10000,\n",
       "   'pop': 0.39,\n",
       "   'rain': {'3h': 0.15},\n",
       "   'sys': {'pod': 'd'},\n",
       "   'dt_txt': '2024-06-19 09:00:00'},\n",
       "  {'dt': 1718798400,\n",
       "   'main': {'temp': 30.98,\n",
       "    'feels_like': 34.56,\n",
       "    'temp_min': 30.98,\n",
       "    'temp_max': 30.98,\n",
       "    'pressure': 1005,\n",
       "    'sea_level': 1005,\n",
       "    'grnd_level': 1005,\n",
       "    'humidity': 59,\n",
       "    'temp_kf': 0},\n",
       "   'weather': [{'id': 500,\n",
       "     'main': 'Rain',\n",
       "     'description': 'light rain',\n",
       "     'icon': '10n'}],\n",
       "   'clouds': {'all': 100},\n",
       "   'wind': {'speed': 4.11, 'deg': 238, 'gust': 8},\n",
       "   'visibility': 10000,\n",
       "   'pop': 0.25,\n",
       "   'rain': {'3h': 0.1},\n",
       "   'sys': {'pod': 'n'},\n",
       "   'dt_txt': '2024-06-19 12:00:00'},\n",
       "  {'dt': 1718809200,\n",
       "   'main': {'temp': 28.86,\n",
       "    'feels_like': 32.25,\n",
       "    'temp_min': 28.86,\n",
       "    'temp_max': 28.86,\n",
       "    'pressure': 1008,\n",
       "    'sea_level': 1008,\n",
       "    'grnd_level': 1007,\n",
       "    'humidity': 69,\n",
       "    'temp_kf': 0},\n",
       "   'weather': [{'id': 804,\n",
       "     'main': 'Clouds',\n",
       "     'description': 'overcast clouds',\n",
       "     'icon': '04n'}],\n",
       "   'clouds': {'all': 97},\n",
       "   'wind': {'speed': 4.38, 'deg': 236, 'gust': 9.14},\n",
       "   'visibility': 10000,\n",
       "   'pop': 0.25,\n",
       "   'sys': {'pod': 'n'},\n",
       "   'dt_txt': '2024-06-19 15:00:00'},\n",
       "  {'dt': 1718820000,\n",
       "   'main': {'temp': 27.72,\n",
       "    'feels_like': 30.88,\n",
       "    'temp_min': 27.72,\n",
       "    'temp_max': 27.72,\n",
       "    'pressure': 1006,\n",
       "    'sea_level': 1006,\n",
       "    'grnd_level': 1006,\n",
       "    'humidity': 76,\n",
       "    'temp_kf': 0},\n",
       "   'weather': [{'id': 804,\n",
       "     'main': 'Clouds',\n",
       "     'description': 'overcast clouds',\n",
       "     'icon': '04n'}],\n",
       "   'clouds': {'all': 98},\n",
       "   'wind': {'speed': 3.98, 'deg': 226, 'gust': 9.67},\n",
       "   'visibility': 10000,\n",
       "   'pop': 0.28,\n",
       "   'sys': {'pod': 'n'},\n",
       "   'dt_txt': '2024-06-19 18:00:00'},\n",
       "  {'dt': 1718830800,\n",
       "   'main': {'temp': 26.37,\n",
       "    'feels_like': 26.37,\n",
       "    'temp_min': 26.37,\n",
       "    'temp_max': 26.37,\n",
       "    'pressure': 1006,\n",
       "    'sea_level': 1006,\n",
       "    'grnd_level': 1005,\n",
       "    'humidity': 84,\n",
       "    'temp_kf': 0},\n",
       "   'weather': [{'id': 500,\n",
       "     'main': 'Rain',\n",
       "     'description': 'light rain',\n",
       "     'icon': '10n'}],\n",
       "   'clouds': {'all': 99},\n",
       "   'wind': {'speed': 2.52, 'deg': 229, 'gust': 7.03},\n",
       "   'visibility': 10000,\n",
       "   'pop': 0.57,\n",
       "   'rain': {'3h': 0.79},\n",
       "   'sys': {'pod': 'n'},\n",
       "   'dt_txt': '2024-06-19 21:00:00'},\n",
       "  {'dt': 1718841600,\n",
       "   'main': {'temp': 27.5,\n",
       "    'feels_like': 30.76,\n",
       "    'temp_min': 27.5,\n",
       "    'temp_max': 27.5,\n",
       "    'pressure': 1008,\n",
       "    'sea_level': 1008,\n",
       "    'grnd_level': 1007,\n",
       "    'humidity': 79,\n",
       "    'temp_kf': 0},\n",
       "   'weather': [{'id': 500,\n",
       "     'main': 'Rain',\n",
       "     'description': 'light rain',\n",
       "     'icon': '10d'}],\n",
       "   'clouds': {'all': 99},\n",
       "   'wind': {'speed': 2.87, 'deg': 235, 'gust': 8.03},\n",
       "   'visibility': 10000,\n",
       "   'pop': 0.63,\n",
       "   'rain': {'3h': 0.1},\n",
       "   'sys': {'pod': 'd'},\n",
       "   'dt_txt': '2024-06-20 00:00:00'},\n",
       "  {'dt': 1718852400,\n",
       "   'main': {'temp': 32.71,\n",
       "    'feels_like': 36.86,\n",
       "    'temp_min': 32.71,\n",
       "    'temp_max': 32.71,\n",
       "    'pressure': 1007,\n",
       "    'sea_level': 1007,\n",
       "    'grnd_level': 1007,\n",
       "    'humidity': 54,\n",
       "    'temp_kf': 0},\n",
       "   'weather': [{'id': 804,\n",
       "     'main': 'Clouds',\n",
       "     'description': 'overcast clouds',\n",
       "     'icon': '04d'}],\n",
       "   'clouds': {'all': 91},\n",
       "   'wind': {'speed': 4.91, 'deg': 258, 'gust': 5.94},\n",
       "   'visibility': 10000,\n",
       "   'pop': 0,\n",
       "   'sys': {'pod': 'd'},\n",
       "   'dt_txt': '2024-06-20 03:00:00'},\n",
       "  {'dt': 1718863200,\n",
       "   'main': {'temp': 35.74,\n",
       "    'feels_like': 38.97,\n",
       "    'temp_min': 35.74,\n",
       "    'temp_max': 35.74,\n",
       "    'pressure': 1005,\n",
       "    'sea_level': 1005,\n",
       "    'grnd_level': 1004,\n",
       "    'humidity': 41,\n",
       "    'temp_kf': 0},\n",
       "   'weather': [{'id': 804,\n",
       "     'main': 'Clouds',\n",
       "     'description': 'overcast clouds',\n",
       "     'icon': '04d'}],\n",
       "   'clouds': {'all': 95},\n",
       "   'wind': {'speed': 4.11, 'deg': 268, 'gust': 5.21},\n",
       "   'visibility': 10000,\n",
       "   'pop': 0,\n",
       "   'sys': {'pod': 'd'},\n",
       "   'dt_txt': '2024-06-20 06:00:00'},\n",
       "  {'dt': 1718874000,\n",
       "   'main': {'temp': 32.2,\n",
       "    'feels_like': 35.78,\n",
       "    'temp_min': 32.2,\n",
       "    'temp_max': 32.2,\n",
       "    'pressure': 1003,\n",
       "    'sea_level': 1003,\n",
       "    'grnd_level': 1003,\n",
       "    'humidity': 54,\n",
       "    'temp_kf': 0},\n",
       "   'weather': [{'id': 500,\n",
       "     'main': 'Rain',\n",
       "     'description': 'light rain',\n",
       "     'icon': '10d'}],\n",
       "   'clouds': {'all': 100},\n",
       "   'wind': {'speed': 4.25, 'deg': 215, 'gust': 6.61},\n",
       "   'visibility': 10000,\n",
       "   'pop': 0.31,\n",
       "   'rain': {'3h': 0.19},\n",
       "   'sys': {'pod': 'd'},\n",
       "   'dt_txt': '2024-06-20 09:00:00'},\n",
       "  {'dt': 1718884800,\n",
       "   'main': {'temp': 29.95,\n",
       "    'feels_like': 33.99,\n",
       "    'temp_min': 29.95,\n",
       "    'temp_max': 29.95,\n",
       "    'pressure': 1006,\n",
       "    'sea_level': 1006,\n",
       "    'grnd_level': 1005,\n",
       "    'humidity': 66,\n",
       "    'temp_kf': 0},\n",
       "   'weather': [{'id': 500,\n",
       "     'main': 'Rain',\n",
       "     'description': 'light rain',\n",
       "     'icon': '10n'}],\n",
       "   'clouds': {'all': 100},\n",
       "   'wind': {'speed': 2.87, 'deg': 231, 'gust': 5.9},\n",
       "   'visibility': 10000,\n",
       "   'pop': 0.81,\n",
       "   'rain': {'3h': 1.21},\n",
       "   'sys': {'pod': 'n'},\n",
       "   'dt_txt': '2024-06-20 12:00:00'},\n",
       "  {'dt': 1718895600,\n",
       "   'main': {'temp': 27.45,\n",
       "    'feels_like': 30.77,\n",
       "    'temp_min': 27.45,\n",
       "    'temp_max': 27.45,\n",
       "    'pressure': 1007,\n",
       "    'sea_level': 1007,\n",
       "    'grnd_level': 1007,\n",
       "    'humidity': 80,\n",
       "    'temp_kf': 0},\n",
       "   'weather': [{'id': 500,\n",
       "     'main': 'Rain',\n",
       "     'description': 'light rain',\n",
       "     'icon': '10n'}],\n",
       "   'clouds': {'all': 100},\n",
       "   'wind': {'speed': 3.84, 'deg': 227, 'gust': 8.6},\n",
       "   'visibility': 10000,\n",
       "   'pop': 0.97,\n",
       "   'rain': {'3h': 1.77},\n",
       "   'sys': {'pod': 'n'},\n",
       "   'dt_txt': '2024-06-20 15:00:00'},\n",
       "  {'dt': 1718906400,\n",
       "   'main': {'temp': 24.48,\n",
       "    'feels_like': 25.28,\n",
       "    'temp_min': 24.48,\n",
       "    'temp_max': 24.48,\n",
       "    'pressure': 1007,\n",
       "    'sea_level': 1007,\n",
       "    'grnd_level': 1006,\n",
       "    'humidity': 88,\n",
       "    'temp_kf': 0},\n",
       "   'weather': [{'id': 501,\n",
       "     'main': 'Rain',\n",
       "     'description': 'moderate rain',\n",
       "     'icon': '10n'}],\n",
       "   'clouds': {'all': 100},\n",
       "   'wind': {'speed': 3.77, 'deg': 240, 'gust': 8.58},\n",
       "   'visibility': 5384,\n",
       "   'pop': 1,\n",
       "   'rain': {'3h': 5.29},\n",
       "   'sys': {'pod': 'n'},\n",
       "   'dt_txt': '2024-06-20 18:00:00'},\n",
       "  {'dt': 1718917200,\n",
       "   'main': {'temp': 25.05,\n",
       "    'feels_like': 25.93,\n",
       "    'temp_min': 25.05,\n",
       "    'temp_max': 25.05,\n",
       "    'pressure': 1006,\n",
       "    'sea_level': 1006,\n",
       "    'grnd_level': 1006,\n",
       "    'humidity': 89,\n",
       "    'temp_kf': 0},\n",
       "   'weather': [{'id': 501,\n",
       "     'main': 'Rain',\n",
       "     'description': 'moderate rain',\n",
       "     'icon': '10n'}],\n",
       "   'clouds': {'all': 100},\n",
       "   'wind': {'speed': 2.78, 'deg': 223, 'gust': 8.6},\n",
       "   'visibility': 10000,\n",
       "   'pop': 0.97,\n",
       "   'rain': {'3h': 4.42},\n",
       "   'sys': {'pod': 'n'},\n",
       "   'dt_txt': '2024-06-20 21:00:00'},\n",
       "  {'dt': 1718928000,\n",
       "   'main': {'temp': 25.31,\n",
       "    'feels_like': 26.25,\n",
       "    'temp_min': 25.31,\n",
       "    'temp_max': 25.31,\n",
       "    'pressure': 1008,\n",
       "    'sea_level': 1008,\n",
       "    'grnd_level': 1007,\n",
       "    'humidity': 90,\n",
       "    'temp_kf': 0},\n",
       "   'weather': [{'id': 501,\n",
       "     'main': 'Rain',\n",
       "     'description': 'moderate rain',\n",
       "     'icon': '10d'}],\n",
       "   'clouds': {'all': 100},\n",
       "   'wind': {'speed': 1.4, 'deg': 243, 'gust': 4.77},\n",
       "   'visibility': 10000,\n",
       "   'pop': 1,\n",
       "   'rain': {'3h': 5.85},\n",
       "   'sys': {'pod': 'd'},\n",
       "   'dt_txt': '2024-06-21 00:00:00'},\n",
       "  {'dt': 1718938800,\n",
       "   'main': {'temp': 26.95,\n",
       "    'feels_like': 29.81,\n",
       "    'temp_min': 26.95,\n",
       "    'temp_max': 26.95,\n",
       "    'pressure': 1008,\n",
       "    'sea_level': 1008,\n",
       "    'grnd_level': 1008,\n",
       "    'humidity': 82,\n",
       "    'temp_kf': 0},\n",
       "   'weather': [{'id': 500,\n",
       "     'main': 'Rain',\n",
       "     'description': 'light rain',\n",
       "     'icon': '10d'}],\n",
       "   'clouds': {'all': 100},\n",
       "   'wind': {'speed': 2.63, 'deg': 274, 'gust': 5.53},\n",
       "   'visibility': 10000,\n",
       "   'pop': 0.64,\n",
       "   'rain': {'3h': 0.21},\n",
       "   'sys': {'pod': 'd'},\n",
       "   'dt_txt': '2024-06-21 03:00:00'},\n",
       "  {'dt': 1718949600,\n",
       "   'main': {'temp': 26.78,\n",
       "    'feels_like': 29.42,\n",
       "    'temp_min': 26.78,\n",
       "    'temp_max': 26.78,\n",
       "    'pressure': 1006,\n",
       "    'sea_level': 1006,\n",
       "    'grnd_level': 1006,\n",
       "    'humidity': 82,\n",
       "    'temp_kf': 0},\n",
       "   'weather': [{'id': 804,\n",
       "     'main': 'Clouds',\n",
       "     'description': 'overcast clouds',\n",
       "     'icon': '04d'}],\n",
       "   'clouds': {'all': 100},\n",
       "   'wind': {'speed': 2.95, 'deg': 262, 'gust': 4.76},\n",
       "   'visibility': 10000,\n",
       "   'pop': 0.65,\n",
       "   'sys': {'pod': 'd'},\n",
       "   'dt_txt': '2024-06-21 06:00:00'},\n",
       "  {'dt': 1718960400,\n",
       "   'main': {'temp': 27.05,\n",
       "    'feels_like': 29.76,\n",
       "    'temp_min': 27.05,\n",
       "    'temp_max': 27.05,\n",
       "    'pressure': 1005,\n",
       "    'sea_level': 1005,\n",
       "    'grnd_level': 1005,\n",
       "    'humidity': 79,\n",
       "    'temp_kf': 0},\n",
       "   'weather': [{'id': 500,\n",
       "     'main': 'Rain',\n",
       "     'description': 'light rain',\n",
       "     'icon': '10d'}],\n",
       "   'clouds': {'all': 100},\n",
       "   'wind': {'speed': 3.34, 'deg': 242, 'gust': 6.85},\n",
       "   'visibility': 10000,\n",
       "   'pop': 0.68,\n",
       "   'rain': {'3h': 0.1},\n",
       "   'sys': {'pod': 'd'},\n",
       "   'dt_txt': '2024-06-21 09:00:00'},\n",
       "  {'dt': 1718971200,\n",
       "   'main': {'temp': 25.78,\n",
       "    'feels_like': 26.69,\n",
       "    'temp_min': 25.78,\n",
       "    'temp_max': 25.78,\n",
       "    'pressure': 1007,\n",
       "    'sea_level': 1007,\n",
       "    'grnd_level': 1006,\n",
       "    'humidity': 87,\n",
       "    'temp_kf': 0},\n",
       "   'weather': [{'id': 804,\n",
       "     'main': 'Clouds',\n",
       "     'description': 'overcast clouds',\n",
       "     'icon': '04n'}],\n",
       "   'clouds': {'all': 100},\n",
       "   'wind': {'speed': 4.44, 'deg': 236, 'gust': 10.37},\n",
       "   'visibility': 10000,\n",
       "   'pop': 0.56,\n",
       "   'sys': {'pod': 'n'},\n",
       "   'dt_txt': '2024-06-21 12:00:00'},\n",
       "  {'dt': 1718982000,\n",
       "   'main': {'temp': 25.43,\n",
       "    'feels_like': 26.33,\n",
       "    'temp_min': 25.43,\n",
       "    'temp_max': 25.43,\n",
       "    'pressure': 1009,\n",
       "    'sea_level': 1009,\n",
       "    'grnd_level': 1008,\n",
       "    'humidity': 88,\n",
       "    'temp_kf': 0},\n",
       "   'weather': [{'id': 500,\n",
       "     'main': 'Rain',\n",
       "     'description': 'light rain',\n",
       "     'icon': '10n'}],\n",
       "   'clouds': {'all': 100},\n",
       "   'wind': {'speed': 4.64, 'deg': 240, 'gust': 11.59},\n",
       "   'visibility': 10000,\n",
       "   'pop': 0.29,\n",
       "   'rain': {'3h': 0.17},\n",
       "   'sys': {'pod': 'n'},\n",
       "   'dt_txt': '2024-06-21 15:00:00'}],\n",
       " 'city': {'id': 1566083,\n",
       "  'name': 'Ho Chi Minh City',\n",
       "  'coord': {'lat': 10.75, 'lon': 106.6667},\n",
       "  'country': 'VN',\n",
       "  'population': 1000000,\n",
       "  'timezone': 25200,\n",
       "  'sunrise': 1718490694,\n",
       "  'sunset': 1718536595}}"
      ]
     },
     "metadata": {},
     "output_type": "display_data"
    }
   ],
   "source": [
    "import requests\n",
    "import pandas as pd\n",
    "import matplotlib.pyplot as plt\n",
    "import plotly.express as px\n",
    "\n",
    "# Replace with your own OpenWeatherMap API key\n",
    "API_KEY = '1e4f358eb16a06a534c9fe3bd9d93ce7'\n",
    "CITY_NAME = 'Ho Chi Minh City'\n",
    "BASE_URL = 'http://api.openweathermap.org/data/2.5/forecast'\n",
    "\n",
    "# Make the API request\n",
    "params = {\n",
    "    'q': CITY_NAME,\n",
    "    'appid': API_KEY,\n",
    "    'units': 'metric'  # Use 'metric' to get temperature in Celsius\n",
    "}\n",
    "\n",
    "response = requests.get(BASE_URL, params=params)\n",
    "data = response.json()\n",
    "display(data)"
   ]
  },
  {
   "cell_type": "code",
   "execution_count": 2,
   "metadata": {},
   "outputs": [
    {
     "data": {
      "text/html": [
       "<div>\n",
       "<style scoped>\n",
       "    .dataframe tbody tr th:only-of-type {\n",
       "        vertical-align: middle;\n",
       "    }\n",
       "\n",
       "    .dataframe tbody tr th {\n",
       "        vertical-align: top;\n",
       "    }\n",
       "\n",
       "    .dataframe thead th {\n",
       "        text-align: right;\n",
       "    }\n",
       "</style>\n",
       "<table border=\"1\" class=\"dataframe\">\n",
       "  <thead>\n",
       "    <tr style=\"text-align: right;\">\n",
       "      <th></th>\n",
       "      <th>Date</th>\n",
       "      <th>Temperature</th>\n",
       "      <th>Description</th>\n",
       "    </tr>\n",
       "  </thead>\n",
       "  <tbody>\n",
       "    <tr>\n",
       "      <th>0</th>\n",
       "      <td>2024-06-16 18:00:00</td>\n",
       "      <td>28.11</td>\n",
       "      <td>broken clouds</td>\n",
       "    </tr>\n",
       "    <tr>\n",
       "      <th>1</th>\n",
       "      <td>2024-06-16 21:00:00</td>\n",
       "      <td>27.44</td>\n",
       "      <td>broken clouds</td>\n",
       "    </tr>\n",
       "    <tr>\n",
       "      <th>2</th>\n",
       "      <td>2024-06-17 00:00:00</td>\n",
       "      <td>27.61</td>\n",
       "      <td>light rain</td>\n",
       "    </tr>\n",
       "    <tr>\n",
       "      <th>3</th>\n",
       "      <td>2024-06-17 03:00:00</td>\n",
       "      <td>32.86</td>\n",
       "      <td>light rain</td>\n",
       "    </tr>\n",
       "    <tr>\n",
       "      <th>4</th>\n",
       "      <td>2024-06-17 06:00:00</td>\n",
       "      <td>34.97</td>\n",
       "      <td>broken clouds</td>\n",
       "    </tr>\n",
       "    <tr>\n",
       "      <th>5</th>\n",
       "      <td>2024-06-17 09:00:00</td>\n",
       "      <td>31.49</td>\n",
       "      <td>light rain</td>\n",
       "    </tr>\n",
       "    <tr>\n",
       "      <th>6</th>\n",
       "      <td>2024-06-17 12:00:00</td>\n",
       "      <td>30.39</td>\n",
       "      <td>overcast clouds</td>\n",
       "    </tr>\n",
       "    <tr>\n",
       "      <th>7</th>\n",
       "      <td>2024-06-17 15:00:00</td>\n",
       "      <td>28.45</td>\n",
       "      <td>overcast clouds</td>\n",
       "    </tr>\n",
       "    <tr>\n",
       "      <th>8</th>\n",
       "      <td>2024-06-17 18:00:00</td>\n",
       "      <td>27.35</td>\n",
       "      <td>overcast clouds</td>\n",
       "    </tr>\n",
       "    <tr>\n",
       "      <th>9</th>\n",
       "      <td>2024-06-17 21:00:00</td>\n",
       "      <td>26.59</td>\n",
       "      <td>overcast clouds</td>\n",
       "    </tr>\n",
       "    <tr>\n",
       "      <th>10</th>\n",
       "      <td>2024-06-18 00:00:00</td>\n",
       "      <td>27.91</td>\n",
       "      <td>light rain</td>\n",
       "    </tr>\n",
       "    <tr>\n",
       "      <th>11</th>\n",
       "      <td>2024-06-18 03:00:00</td>\n",
       "      <td>32.82</td>\n",
       "      <td>overcast clouds</td>\n",
       "    </tr>\n",
       "    <tr>\n",
       "      <th>12</th>\n",
       "      <td>2024-06-18 06:00:00</td>\n",
       "      <td>36.19</td>\n",
       "      <td>overcast clouds</td>\n",
       "    </tr>\n",
       "    <tr>\n",
       "      <th>13</th>\n",
       "      <td>2024-06-18 09:00:00</td>\n",
       "      <td>32.89</td>\n",
       "      <td>light rain</td>\n",
       "    </tr>\n",
       "    <tr>\n",
       "      <th>14</th>\n",
       "      <td>2024-06-18 12:00:00</td>\n",
       "      <td>30.47</td>\n",
       "      <td>overcast clouds</td>\n",
       "    </tr>\n",
       "    <tr>\n",
       "      <th>15</th>\n",
       "      <td>2024-06-18 15:00:00</td>\n",
       "      <td>28.88</td>\n",
       "      <td>light rain</td>\n",
       "    </tr>\n",
       "    <tr>\n",
       "      <th>16</th>\n",
       "      <td>2024-06-18 18:00:00</td>\n",
       "      <td>27.68</td>\n",
       "      <td>scattered clouds</td>\n",
       "    </tr>\n",
       "    <tr>\n",
       "      <th>17</th>\n",
       "      <td>2024-06-18 21:00:00</td>\n",
       "      <td>26.72</td>\n",
       "      <td>light rain</td>\n",
       "    </tr>\n",
       "    <tr>\n",
       "      <th>18</th>\n",
       "      <td>2024-06-19 00:00:00</td>\n",
       "      <td>27.95</td>\n",
       "      <td>broken clouds</td>\n",
       "    </tr>\n",
       "    <tr>\n",
       "      <th>19</th>\n",
       "      <td>2024-06-19 03:00:00</td>\n",
       "      <td>33.20</td>\n",
       "      <td>overcast clouds</td>\n",
       "    </tr>\n",
       "    <tr>\n",
       "      <th>20</th>\n",
       "      <td>2024-06-19 06:00:00</td>\n",
       "      <td>35.12</td>\n",
       "      <td>overcast clouds</td>\n",
       "    </tr>\n",
       "    <tr>\n",
       "      <th>21</th>\n",
       "      <td>2024-06-19 09:00:00</td>\n",
       "      <td>32.34</td>\n",
       "      <td>light rain</td>\n",
       "    </tr>\n",
       "    <tr>\n",
       "      <th>22</th>\n",
       "      <td>2024-06-19 12:00:00</td>\n",
       "      <td>30.98</td>\n",
       "      <td>light rain</td>\n",
       "    </tr>\n",
       "    <tr>\n",
       "      <th>23</th>\n",
       "      <td>2024-06-19 15:00:00</td>\n",
       "      <td>28.86</td>\n",
       "      <td>overcast clouds</td>\n",
       "    </tr>\n",
       "    <tr>\n",
       "      <th>24</th>\n",
       "      <td>2024-06-19 18:00:00</td>\n",
       "      <td>27.72</td>\n",
       "      <td>overcast clouds</td>\n",
       "    </tr>\n",
       "    <tr>\n",
       "      <th>25</th>\n",
       "      <td>2024-06-19 21:00:00</td>\n",
       "      <td>26.37</td>\n",
       "      <td>light rain</td>\n",
       "    </tr>\n",
       "    <tr>\n",
       "      <th>26</th>\n",
       "      <td>2024-06-20 00:00:00</td>\n",
       "      <td>27.50</td>\n",
       "      <td>light rain</td>\n",
       "    </tr>\n",
       "    <tr>\n",
       "      <th>27</th>\n",
       "      <td>2024-06-20 03:00:00</td>\n",
       "      <td>32.71</td>\n",
       "      <td>overcast clouds</td>\n",
       "    </tr>\n",
       "    <tr>\n",
       "      <th>28</th>\n",
       "      <td>2024-06-20 06:00:00</td>\n",
       "      <td>35.74</td>\n",
       "      <td>overcast clouds</td>\n",
       "    </tr>\n",
       "    <tr>\n",
       "      <th>29</th>\n",
       "      <td>2024-06-20 09:00:00</td>\n",
       "      <td>32.20</td>\n",
       "      <td>light rain</td>\n",
       "    </tr>\n",
       "    <tr>\n",
       "      <th>30</th>\n",
       "      <td>2024-06-20 12:00:00</td>\n",
       "      <td>29.95</td>\n",
       "      <td>light rain</td>\n",
       "    </tr>\n",
       "    <tr>\n",
       "      <th>31</th>\n",
       "      <td>2024-06-20 15:00:00</td>\n",
       "      <td>27.45</td>\n",
       "      <td>light rain</td>\n",
       "    </tr>\n",
       "    <tr>\n",
       "      <th>32</th>\n",
       "      <td>2024-06-20 18:00:00</td>\n",
       "      <td>24.48</td>\n",
       "      <td>moderate rain</td>\n",
       "    </tr>\n",
       "    <tr>\n",
       "      <th>33</th>\n",
       "      <td>2024-06-20 21:00:00</td>\n",
       "      <td>25.05</td>\n",
       "      <td>moderate rain</td>\n",
       "    </tr>\n",
       "    <tr>\n",
       "      <th>34</th>\n",
       "      <td>2024-06-21 00:00:00</td>\n",
       "      <td>25.31</td>\n",
       "      <td>moderate rain</td>\n",
       "    </tr>\n",
       "    <tr>\n",
       "      <th>35</th>\n",
       "      <td>2024-06-21 03:00:00</td>\n",
       "      <td>26.95</td>\n",
       "      <td>light rain</td>\n",
       "    </tr>\n",
       "    <tr>\n",
       "      <th>36</th>\n",
       "      <td>2024-06-21 06:00:00</td>\n",
       "      <td>26.78</td>\n",
       "      <td>overcast clouds</td>\n",
       "    </tr>\n",
       "    <tr>\n",
       "      <th>37</th>\n",
       "      <td>2024-06-21 09:00:00</td>\n",
       "      <td>27.05</td>\n",
       "      <td>light rain</td>\n",
       "    </tr>\n",
       "    <tr>\n",
       "      <th>38</th>\n",
       "      <td>2024-06-21 12:00:00</td>\n",
       "      <td>25.78</td>\n",
       "      <td>overcast clouds</td>\n",
       "    </tr>\n",
       "    <tr>\n",
       "      <th>39</th>\n",
       "      <td>2024-06-21 15:00:00</td>\n",
       "      <td>25.43</td>\n",
       "      <td>light rain</td>\n",
       "    </tr>\n",
       "  </tbody>\n",
       "</table>\n",
       "</div>"
      ],
      "text/plain": [
       "                   Date  Temperature       Description\n",
       "0   2024-06-16 18:00:00        28.11     broken clouds\n",
       "1   2024-06-16 21:00:00        27.44     broken clouds\n",
       "2   2024-06-17 00:00:00        27.61        light rain\n",
       "3   2024-06-17 03:00:00        32.86        light rain\n",
       "4   2024-06-17 06:00:00        34.97     broken clouds\n",
       "5   2024-06-17 09:00:00        31.49        light rain\n",
       "6   2024-06-17 12:00:00        30.39   overcast clouds\n",
       "7   2024-06-17 15:00:00        28.45   overcast clouds\n",
       "8   2024-06-17 18:00:00        27.35   overcast clouds\n",
       "9   2024-06-17 21:00:00        26.59   overcast clouds\n",
       "10  2024-06-18 00:00:00        27.91        light rain\n",
       "11  2024-06-18 03:00:00        32.82   overcast clouds\n",
       "12  2024-06-18 06:00:00        36.19   overcast clouds\n",
       "13  2024-06-18 09:00:00        32.89        light rain\n",
       "14  2024-06-18 12:00:00        30.47   overcast clouds\n",
       "15  2024-06-18 15:00:00        28.88        light rain\n",
       "16  2024-06-18 18:00:00        27.68  scattered clouds\n",
       "17  2024-06-18 21:00:00        26.72        light rain\n",
       "18  2024-06-19 00:00:00        27.95     broken clouds\n",
       "19  2024-06-19 03:00:00        33.20   overcast clouds\n",
       "20  2024-06-19 06:00:00        35.12   overcast clouds\n",
       "21  2024-06-19 09:00:00        32.34        light rain\n",
       "22  2024-06-19 12:00:00        30.98        light rain\n",
       "23  2024-06-19 15:00:00        28.86   overcast clouds\n",
       "24  2024-06-19 18:00:00        27.72   overcast clouds\n",
       "25  2024-06-19 21:00:00        26.37        light rain\n",
       "26  2024-06-20 00:00:00        27.50        light rain\n",
       "27  2024-06-20 03:00:00        32.71   overcast clouds\n",
       "28  2024-06-20 06:00:00        35.74   overcast clouds\n",
       "29  2024-06-20 09:00:00        32.20        light rain\n",
       "30  2024-06-20 12:00:00        29.95        light rain\n",
       "31  2024-06-20 15:00:00        27.45        light rain\n",
       "32  2024-06-20 18:00:00        24.48     moderate rain\n",
       "33  2024-06-20 21:00:00        25.05     moderate rain\n",
       "34  2024-06-21 00:00:00        25.31     moderate rain\n",
       "35  2024-06-21 03:00:00        26.95        light rain\n",
       "36  2024-06-21 06:00:00        26.78   overcast clouds\n",
       "37  2024-06-21 09:00:00        27.05        light rain\n",
       "38  2024-06-21 12:00:00        25.78   overcast clouds\n",
       "39  2024-06-21 15:00:00        25.43        light rain"
      ]
     },
     "metadata": {},
     "output_type": "display_data"
    }
   ],
   "source": [
    "\n",
    "# Extract relevant data\n",
    "forecast_list = data['list']\n",
    "dates = [item['dt_txt'] for item in forecast_list]\n",
    "temperatures = [item['main']['temp'] for item in forecast_list]\n",
    "descriptions = [item['weather'][0]['description'] for item in forecast_list]\n",
    "\n",
    "# Create a DataFrame\n",
    "df = pd.DataFrame({\n",
    "    'Date': dates,\n",
    "    'Temperature': temperatures,\n",
    "    'Description': descriptions\n",
    "})\n",
    "display(df)"
   ]
  },
  {
   "cell_type": "code",
   "execution_count": 3,
   "metadata": {},
   "outputs": [
    {
     "data": {
      "application/vnd.plotly.v1+json": {
       "config": {
        "plotlyServerURL": "https://plot.ly"
       },
       "data": [
        {
         "hovertemplate": "Date=%{x}<br>Temperature=%{y}<extra></extra>",
         "legendgroup": "",
         "line": {
          "color": "#636efa",
          "dash": "solid"
         },
         "marker": {
          "symbol": "circle"
         },
         "mode": "lines",
         "name": "",
         "orientation": "v",
         "showlegend": false,
         "type": "scatter",
         "x": [
          "2024-06-16 18:00:00",
          "2024-06-16 21:00:00",
          "2024-06-17 00:00:00",
          "2024-06-17 03:00:00",
          "2024-06-17 06:00:00",
          "2024-06-17 09:00:00",
          "2024-06-17 12:00:00",
          "2024-06-17 15:00:00",
          "2024-06-17 18:00:00",
          "2024-06-17 21:00:00",
          "2024-06-18 00:00:00",
          "2024-06-18 03:00:00",
          "2024-06-18 06:00:00",
          "2024-06-18 09:00:00",
          "2024-06-18 12:00:00",
          "2024-06-18 15:00:00",
          "2024-06-18 18:00:00",
          "2024-06-18 21:00:00",
          "2024-06-19 00:00:00",
          "2024-06-19 03:00:00",
          "2024-06-19 06:00:00",
          "2024-06-19 09:00:00",
          "2024-06-19 12:00:00",
          "2024-06-19 15:00:00",
          "2024-06-19 18:00:00",
          "2024-06-19 21:00:00",
          "2024-06-20 00:00:00",
          "2024-06-20 03:00:00",
          "2024-06-20 06:00:00",
          "2024-06-20 09:00:00",
          "2024-06-20 12:00:00",
          "2024-06-20 15:00:00",
          "2024-06-20 18:00:00",
          "2024-06-20 21:00:00",
          "2024-06-21 00:00:00",
          "2024-06-21 03:00:00",
          "2024-06-21 06:00:00",
          "2024-06-21 09:00:00",
          "2024-06-21 12:00:00",
          "2024-06-21 15:00:00"
         ],
         "xaxis": "x",
         "y": [
          28.11,
          27.44,
          27.61,
          32.86,
          34.97,
          31.49,
          30.39,
          28.45,
          27.35,
          26.59,
          27.91,
          32.82,
          36.19,
          32.89,
          30.47,
          28.88,
          27.68,
          26.72,
          27.95,
          33.2,
          35.12,
          32.34,
          30.98,
          28.86,
          27.72,
          26.37,
          27.5,
          32.71,
          35.74,
          32.2,
          29.95,
          27.45,
          24.48,
          25.05,
          25.31,
          26.95,
          26.78,
          27.05,
          25.78,
          25.43
         ],
         "yaxis": "y"
        }
       ],
       "layout": {
        "legend": {
         "tracegroupgap": 0
        },
        "template": {
         "data": {
          "bar": [
           {
            "error_x": {
             "color": "#2a3f5f"
            },
            "error_y": {
             "color": "#2a3f5f"
            },
            "marker": {
             "line": {
              "color": "#E5ECF6",
              "width": 0.5
             },
             "pattern": {
              "fillmode": "overlay",
              "size": 10,
              "solidity": 0.2
             }
            },
            "type": "bar"
           }
          ],
          "barpolar": [
           {
            "marker": {
             "line": {
              "color": "#E5ECF6",
              "width": 0.5
             },
             "pattern": {
              "fillmode": "overlay",
              "size": 10,
              "solidity": 0.2
             }
            },
            "type": "barpolar"
           }
          ],
          "carpet": [
           {
            "aaxis": {
             "endlinecolor": "#2a3f5f",
             "gridcolor": "white",
             "linecolor": "white",
             "minorgridcolor": "white",
             "startlinecolor": "#2a3f5f"
            },
            "baxis": {
             "endlinecolor": "#2a3f5f",
             "gridcolor": "white",
             "linecolor": "white",
             "minorgridcolor": "white",
             "startlinecolor": "#2a3f5f"
            },
            "type": "carpet"
           }
          ],
          "choropleth": [
           {
            "colorbar": {
             "outlinewidth": 0,
             "ticks": ""
            },
            "type": "choropleth"
           }
          ],
          "contour": [
           {
            "colorbar": {
             "outlinewidth": 0,
             "ticks": ""
            },
            "colorscale": [
             [
              0,
              "#0d0887"
             ],
             [
              0.1111111111111111,
              "#46039f"
             ],
             [
              0.2222222222222222,
              "#7201a8"
             ],
             [
              0.3333333333333333,
              "#9c179e"
             ],
             [
              0.4444444444444444,
              "#bd3786"
             ],
             [
              0.5555555555555556,
              "#d8576b"
             ],
             [
              0.6666666666666666,
              "#ed7953"
             ],
             [
              0.7777777777777778,
              "#fb9f3a"
             ],
             [
              0.8888888888888888,
              "#fdca26"
             ],
             [
              1,
              "#f0f921"
             ]
            ],
            "type": "contour"
           }
          ],
          "contourcarpet": [
           {
            "colorbar": {
             "outlinewidth": 0,
             "ticks": ""
            },
            "type": "contourcarpet"
           }
          ],
          "heatmap": [
           {
            "colorbar": {
             "outlinewidth": 0,
             "ticks": ""
            },
            "colorscale": [
             [
              0,
              "#0d0887"
             ],
             [
              0.1111111111111111,
              "#46039f"
             ],
             [
              0.2222222222222222,
              "#7201a8"
             ],
             [
              0.3333333333333333,
              "#9c179e"
             ],
             [
              0.4444444444444444,
              "#bd3786"
             ],
             [
              0.5555555555555556,
              "#d8576b"
             ],
             [
              0.6666666666666666,
              "#ed7953"
             ],
             [
              0.7777777777777778,
              "#fb9f3a"
             ],
             [
              0.8888888888888888,
              "#fdca26"
             ],
             [
              1,
              "#f0f921"
             ]
            ],
            "type": "heatmap"
           }
          ],
          "heatmapgl": [
           {
            "colorbar": {
             "outlinewidth": 0,
             "ticks": ""
            },
            "colorscale": [
             [
              0,
              "#0d0887"
             ],
             [
              0.1111111111111111,
              "#46039f"
             ],
             [
              0.2222222222222222,
              "#7201a8"
             ],
             [
              0.3333333333333333,
              "#9c179e"
             ],
             [
              0.4444444444444444,
              "#bd3786"
             ],
             [
              0.5555555555555556,
              "#d8576b"
             ],
             [
              0.6666666666666666,
              "#ed7953"
             ],
             [
              0.7777777777777778,
              "#fb9f3a"
             ],
             [
              0.8888888888888888,
              "#fdca26"
             ],
             [
              1,
              "#f0f921"
             ]
            ],
            "type": "heatmapgl"
           }
          ],
          "histogram": [
           {
            "marker": {
             "pattern": {
              "fillmode": "overlay",
              "size": 10,
              "solidity": 0.2
             }
            },
            "type": "histogram"
           }
          ],
          "histogram2d": [
           {
            "colorbar": {
             "outlinewidth": 0,
             "ticks": ""
            },
            "colorscale": [
             [
              0,
              "#0d0887"
             ],
             [
              0.1111111111111111,
              "#46039f"
             ],
             [
              0.2222222222222222,
              "#7201a8"
             ],
             [
              0.3333333333333333,
              "#9c179e"
             ],
             [
              0.4444444444444444,
              "#bd3786"
             ],
             [
              0.5555555555555556,
              "#d8576b"
             ],
             [
              0.6666666666666666,
              "#ed7953"
             ],
             [
              0.7777777777777778,
              "#fb9f3a"
             ],
             [
              0.8888888888888888,
              "#fdca26"
             ],
             [
              1,
              "#f0f921"
             ]
            ],
            "type": "histogram2d"
           }
          ],
          "histogram2dcontour": [
           {
            "colorbar": {
             "outlinewidth": 0,
             "ticks": ""
            },
            "colorscale": [
             [
              0,
              "#0d0887"
             ],
             [
              0.1111111111111111,
              "#46039f"
             ],
             [
              0.2222222222222222,
              "#7201a8"
             ],
             [
              0.3333333333333333,
              "#9c179e"
             ],
             [
              0.4444444444444444,
              "#bd3786"
             ],
             [
              0.5555555555555556,
              "#d8576b"
             ],
             [
              0.6666666666666666,
              "#ed7953"
             ],
             [
              0.7777777777777778,
              "#fb9f3a"
             ],
             [
              0.8888888888888888,
              "#fdca26"
             ],
             [
              1,
              "#f0f921"
             ]
            ],
            "type": "histogram2dcontour"
           }
          ],
          "mesh3d": [
           {
            "colorbar": {
             "outlinewidth": 0,
             "ticks": ""
            },
            "type": "mesh3d"
           }
          ],
          "parcoords": [
           {
            "line": {
             "colorbar": {
              "outlinewidth": 0,
              "ticks": ""
             }
            },
            "type": "parcoords"
           }
          ],
          "pie": [
           {
            "automargin": true,
            "type": "pie"
           }
          ],
          "scatter": [
           {
            "fillpattern": {
             "fillmode": "overlay",
             "size": 10,
             "solidity": 0.2
            },
            "type": "scatter"
           }
          ],
          "scatter3d": [
           {
            "line": {
             "colorbar": {
              "outlinewidth": 0,
              "ticks": ""
             }
            },
            "marker": {
             "colorbar": {
              "outlinewidth": 0,
              "ticks": ""
             }
            },
            "type": "scatter3d"
           }
          ],
          "scattercarpet": [
           {
            "marker": {
             "colorbar": {
              "outlinewidth": 0,
              "ticks": ""
             }
            },
            "type": "scattercarpet"
           }
          ],
          "scattergeo": [
           {
            "marker": {
             "colorbar": {
              "outlinewidth": 0,
              "ticks": ""
             }
            },
            "type": "scattergeo"
           }
          ],
          "scattergl": [
           {
            "marker": {
             "colorbar": {
              "outlinewidth": 0,
              "ticks": ""
             }
            },
            "type": "scattergl"
           }
          ],
          "scattermapbox": [
           {
            "marker": {
             "colorbar": {
              "outlinewidth": 0,
              "ticks": ""
             }
            },
            "type": "scattermapbox"
           }
          ],
          "scatterpolar": [
           {
            "marker": {
             "colorbar": {
              "outlinewidth": 0,
              "ticks": ""
             }
            },
            "type": "scatterpolar"
           }
          ],
          "scatterpolargl": [
           {
            "marker": {
             "colorbar": {
              "outlinewidth": 0,
              "ticks": ""
             }
            },
            "type": "scatterpolargl"
           }
          ],
          "scatterternary": [
           {
            "marker": {
             "colorbar": {
              "outlinewidth": 0,
              "ticks": ""
             }
            },
            "type": "scatterternary"
           }
          ],
          "surface": [
           {
            "colorbar": {
             "outlinewidth": 0,
             "ticks": ""
            },
            "colorscale": [
             [
              0,
              "#0d0887"
             ],
             [
              0.1111111111111111,
              "#46039f"
             ],
             [
              0.2222222222222222,
              "#7201a8"
             ],
             [
              0.3333333333333333,
              "#9c179e"
             ],
             [
              0.4444444444444444,
              "#bd3786"
             ],
             [
              0.5555555555555556,
              "#d8576b"
             ],
             [
              0.6666666666666666,
              "#ed7953"
             ],
             [
              0.7777777777777778,
              "#fb9f3a"
             ],
             [
              0.8888888888888888,
              "#fdca26"
             ],
             [
              1,
              "#f0f921"
             ]
            ],
            "type": "surface"
           }
          ],
          "table": [
           {
            "cells": {
             "fill": {
              "color": "#EBF0F8"
             },
             "line": {
              "color": "white"
             }
            },
            "header": {
             "fill": {
              "color": "#C8D4E3"
             },
             "line": {
              "color": "white"
             }
            },
            "type": "table"
           }
          ]
         },
         "layout": {
          "annotationdefaults": {
           "arrowcolor": "#2a3f5f",
           "arrowhead": 0,
           "arrowwidth": 1
          },
          "autotypenumbers": "strict",
          "coloraxis": {
           "colorbar": {
            "outlinewidth": 0,
            "ticks": ""
           }
          },
          "colorscale": {
           "diverging": [
            [
             0,
             "#8e0152"
            ],
            [
             0.1,
             "#c51b7d"
            ],
            [
             0.2,
             "#de77ae"
            ],
            [
             0.3,
             "#f1b6da"
            ],
            [
             0.4,
             "#fde0ef"
            ],
            [
             0.5,
             "#f7f7f7"
            ],
            [
             0.6,
             "#e6f5d0"
            ],
            [
             0.7,
             "#b8e186"
            ],
            [
             0.8,
             "#7fbc41"
            ],
            [
             0.9,
             "#4d9221"
            ],
            [
             1,
             "#276419"
            ]
           ],
           "sequential": [
            [
             0,
             "#0d0887"
            ],
            [
             0.1111111111111111,
             "#46039f"
            ],
            [
             0.2222222222222222,
             "#7201a8"
            ],
            [
             0.3333333333333333,
             "#9c179e"
            ],
            [
             0.4444444444444444,
             "#bd3786"
            ],
            [
             0.5555555555555556,
             "#d8576b"
            ],
            [
             0.6666666666666666,
             "#ed7953"
            ],
            [
             0.7777777777777778,
             "#fb9f3a"
            ],
            [
             0.8888888888888888,
             "#fdca26"
            ],
            [
             1,
             "#f0f921"
            ]
           ],
           "sequentialminus": [
            [
             0,
             "#0d0887"
            ],
            [
             0.1111111111111111,
             "#46039f"
            ],
            [
             0.2222222222222222,
             "#7201a8"
            ],
            [
             0.3333333333333333,
             "#9c179e"
            ],
            [
             0.4444444444444444,
             "#bd3786"
            ],
            [
             0.5555555555555556,
             "#d8576b"
            ],
            [
             0.6666666666666666,
             "#ed7953"
            ],
            [
             0.7777777777777778,
             "#fb9f3a"
            ],
            [
             0.8888888888888888,
             "#fdca26"
            ],
            [
             1,
             "#f0f921"
            ]
           ]
          },
          "colorway": [
           "#636efa",
           "#EF553B",
           "#00cc96",
           "#ab63fa",
           "#FFA15A",
           "#19d3f3",
           "#FF6692",
           "#B6E880",
           "#FF97FF",
           "#FECB52"
          ],
          "font": {
           "color": "#2a3f5f"
          },
          "geo": {
           "bgcolor": "white",
           "lakecolor": "white",
           "landcolor": "#E5ECF6",
           "showlakes": true,
           "showland": true,
           "subunitcolor": "white"
          },
          "hoverlabel": {
           "align": "left"
          },
          "hovermode": "closest",
          "mapbox": {
           "style": "light"
          },
          "paper_bgcolor": "white",
          "plot_bgcolor": "#E5ECF6",
          "polar": {
           "angularaxis": {
            "gridcolor": "white",
            "linecolor": "white",
            "ticks": ""
           },
           "bgcolor": "#E5ECF6",
           "radialaxis": {
            "gridcolor": "white",
            "linecolor": "white",
            "ticks": ""
           }
          },
          "scene": {
           "xaxis": {
            "backgroundcolor": "#E5ECF6",
            "gridcolor": "white",
            "gridwidth": 2,
            "linecolor": "white",
            "showbackground": true,
            "ticks": "",
            "zerolinecolor": "white"
           },
           "yaxis": {
            "backgroundcolor": "#E5ECF6",
            "gridcolor": "white",
            "gridwidth": 2,
            "linecolor": "white",
            "showbackground": true,
            "ticks": "",
            "zerolinecolor": "white"
           },
           "zaxis": {
            "backgroundcolor": "#E5ECF6",
            "gridcolor": "white",
            "gridwidth": 2,
            "linecolor": "white",
            "showbackground": true,
            "ticks": "",
            "zerolinecolor": "white"
           }
          },
          "shapedefaults": {
           "line": {
            "color": "#2a3f5f"
           }
          },
          "ternary": {
           "aaxis": {
            "gridcolor": "white",
            "linecolor": "white",
            "ticks": ""
           },
           "baxis": {
            "gridcolor": "white",
            "linecolor": "white",
            "ticks": ""
           },
           "bgcolor": "#E5ECF6",
           "caxis": {
            "gridcolor": "white",
            "linecolor": "white",
            "ticks": ""
           }
          },
          "title": {
           "x": 0.05
          },
          "xaxis": {
           "automargin": true,
           "gridcolor": "white",
           "linecolor": "white",
           "ticks": "",
           "title": {
            "standoff": 15
           },
           "zerolinecolor": "white",
           "zerolinewidth": 2
          },
          "yaxis": {
           "automargin": true,
           "gridcolor": "white",
           "linecolor": "white",
           "ticks": "",
           "title": {
            "standoff": 15
           },
           "zerolinecolor": "white",
           "zerolinewidth": 2
          }
         }
        },
        "title": {
         "text": "5-Day Weather Forecast for Ho Chi Minh City"
        },
        "xaxis": {
         "anchor": "y",
         "domain": [
          0,
          1
         ],
         "title": {
          "text": "Date"
         }
        },
        "yaxis": {
         "anchor": "x",
         "domain": [
          0,
          1
         ],
         "title": {
          "text": "Temperature"
         }
        }
       }
      }
     },
     "metadata": {},
     "output_type": "display_data"
    }
   ],
   "source": [
    "\n",
    "# Plot the data using Plotly Express\n",
    "fig = px.line(df, x='Date', y='Temperature', title=f'5-Day Weather Forecast for {CITY_NAME}')\n",
    "fig.show()"
   ]
  }
 ],
 "metadata": {
  "kernelspec": {
   "display_name": "Python 3",
   "language": "python",
   "name": "python3"
  },
  "language_info": {
   "codemirror_mode": {
    "name": "ipython",
    "version": 3
   },
   "file_extension": ".py",
   "mimetype": "text/x-python",
   "name": "python",
   "nbconvert_exporter": "python",
   "pygments_lexer": "ipython3",
   "version": "3.12.3"
  }
 },
 "nbformat": 4,
 "nbformat_minor": 2
}
