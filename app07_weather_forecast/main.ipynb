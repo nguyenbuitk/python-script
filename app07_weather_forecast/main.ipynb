{
 "cells": [
  {
   "cell_type": "code",
   "execution_count": 20,
   "metadata": {},
   "outputs": [
    {
     "data": {
      "text/plain": [
       "{'cod': '200',\n",
       " 'message': 0,\n",
       " 'cnt': 40,\n",
       " 'list': [{'dt': 1730732400,\n",
       "   'main': {'temp': 28.37,\n",
       "    'feels_like': 32.52,\n",
       "    'temp_min': 25.48,\n",
       "    'temp_max': 28.37,\n",
       "    'pressure': 1011,\n",
       "    'sea_level': 1011,\n",
       "    'grnd_level': 1010,\n",
       "    'humidity': 77,\n",
       "    'temp_kf': 2.89},\n",
       "   'weather': [{'id': 800,\n",
       "     'main': 'Clear',\n",
       "     'description': 'clear sky',\n",
       "     'icon': '01n'}],\n",
       "   'clouds': {'all': 0},\n",
       "   'wind': {'speed': 2.83, 'deg': 125, 'gust': 9.04},\n",
       "   'visibility': 10000,\n",
       "   'pop': 0.32,\n",
       "   'sys': {'pod': 'n'},\n",
       "   'dt_txt': '2024-11-04 15:00:00'},\n",
       "  {'dt': 1730743200,\n",
       "   'main': {'temp': 27.22,\n",
       "    'feels_like': 30.45,\n",
       "    'temp_min': 24.93,\n",
       "    'temp_max': 27.22,\n",
       "    'pressure': 1011,\n",
       "    'sea_level': 1011,\n",
       "    'grnd_level': 1009,\n",
       "    'humidity': 82,\n",
       "    'temp_kf': 2.29},\n",
       "   'weather': [{'id': 500,\n",
       "     'main': 'Rain',\n",
       "     'description': 'light rain',\n",
       "     'icon': '10n'}],\n",
       "   'clouds': {'all': 33},\n",
       "   'wind': {'speed': 2.26, 'deg': 101, 'gust': 6.86},\n",
       "   'visibility': 10000,\n",
       "   'pop': 0.32,\n",
       "   'rain': {'3h': 0.19},\n",
       "   'sys': {'pod': 'n'},\n",
       "   'dt_txt': '2024-11-04 18:00:00'},\n",
       "  {'dt': 1730754000,\n",
       "   'main': {'temp': 25.77,\n",
       "    'feels_like': 26.67,\n",
       "    'temp_min': 24.47,\n",
       "    'temp_max': 25.77,\n",
       "    'pressure': 1010,\n",
       "    'sea_level': 1010,\n",
       "    'grnd_level': 1009,\n",
       "    'humidity': 87,\n",
       "    'temp_kf': 1.3},\n",
       "   'weather': [{'id': 803,\n",
       "     'main': 'Clouds',\n",
       "     'description': 'broken clouds',\n",
       "     'icon': '04n'}],\n",
       "   'clouds': {'all': 67},\n",
       "   'wind': {'speed': 2.12, 'deg': 83, 'gust': 4.6},\n",
       "   'visibility': 10000,\n",
       "   'pop': 0.33,\n",
       "   'sys': {'pod': 'n'},\n",
       "   'dt_txt': '2024-11-04 21:00:00'},\n",
       "  {'dt': 1730764800,\n",
       "   'main': {'temp': 25.66,\n",
       "    'feels_like': 26.55,\n",
       "    'temp_min': 25.66,\n",
       "    'temp_max': 25.66,\n",
       "    'pressure': 1011,\n",
       "    'sea_level': 1011,\n",
       "    'grnd_level': 1011,\n",
       "    'humidity': 87,\n",
       "    'temp_kf': 0},\n",
       "   'weather': [{'id': 804,\n",
       "     'main': 'Clouds',\n",
       "     'description': 'overcast clouds',\n",
       "     'icon': '04d'}],\n",
       "   'clouds': {'all': 87},\n",
       "   'wind': {'speed': 1.83, 'deg': 72, 'gust': 3.14},\n",
       "   'visibility': 10000,\n",
       "   'pop': 0.31,\n",
       "   'sys': {'pod': 'd'},\n",
       "   'dt_txt': '2024-11-05 00:00:00'},\n",
       "  {'dt': 1730775600,\n",
       "   'main': {'temp': 30.68,\n",
       "    'feels_like': 35.4,\n",
       "    'temp_min': 30.68,\n",
       "    'temp_max': 30.68,\n",
       "    'pressure': 1012,\n",
       "    'sea_level': 1012,\n",
       "    'grnd_level': 1011,\n",
       "    'humidity': 65,\n",
       "    'temp_kf': 0},\n",
       "   'weather': [{'id': 500,\n",
       "     'main': 'Rain',\n",
       "     'description': 'light rain',\n",
       "     'icon': '10d'}],\n",
       "   'clouds': {'all': 44},\n",
       "   'wind': {'speed': 0.34, 'deg': 40, 'gust': 0.88},\n",
       "   'visibility': 10000,\n",
       "   'pop': 0.47,\n",
       "   'rain': {'3h': 0.44},\n",
       "   'sys': {'pod': 'd'},\n",
       "   'dt_txt': '2024-11-05 03:00:00'},\n",
       "  {'dt': 1730786400,\n",
       "   'main': {'temp': 32.16,\n",
       "    'feels_like': 36.55,\n",
       "    'temp_min': 32.16,\n",
       "    'temp_max': 32.16,\n",
       "    'pressure': 1009,\n",
       "    'sea_level': 1009,\n",
       "    'grnd_level': 1008,\n",
       "    'humidity': 57,\n",
       "    'temp_kf': 0},\n",
       "   'weather': [{'id': 500,\n",
       "     'main': 'Rain',\n",
       "     'description': 'light rain',\n",
       "     'icon': '10d'}],\n",
       "   'clouds': {'all': 70},\n",
       "   'wind': {'speed': 1.14, 'deg': 277, 'gust': 1.22},\n",
       "   'visibility': 10000,\n",
       "   'pop': 0.84,\n",
       "   'rain': {'3h': 0.58},\n",
       "   'sys': {'pod': 'd'},\n",
       "   'dt_txt': '2024-11-05 06:00:00'},\n",
       "  {'dt': 1730797200,\n",
       "   'main': {'temp': 27.57,\n",
       "    'feels_like': 31.18,\n",
       "    'temp_min': 27.57,\n",
       "    'temp_max': 27.57,\n",
       "    'pressure': 1008,\n",
       "    'sea_level': 1008,\n",
       "    'grnd_level': 1008,\n",
       "    'humidity': 81,\n",
       "    'temp_kf': 0},\n",
       "   'weather': [{'id': 501,\n",
       "     'main': 'Rain',\n",
       "     'description': 'moderate rain',\n",
       "     'icon': '10d'}],\n",
       "   'clouds': {'all': 87},\n",
       "   'wind': {'speed': 1.58, 'deg': 168, 'gust': 1.95},\n",
       "   'visibility': 10000,\n",
       "   'pop': 0.77,\n",
       "   'rain': {'3h': 4.19},\n",
       "   'sys': {'pod': 'd'},\n",
       "   'dt_txt': '2024-11-05 09:00:00'},\n",
       "  {'dt': 1730808000,\n",
       "   'main': {'temp': 25.38,\n",
       "    'feels_like': 26.27,\n",
       "    'temp_min': 25.38,\n",
       "    'temp_max': 25.38,\n",
       "    'pressure': 1011,\n",
       "    'sea_level': 1011,\n",
       "    'grnd_level': 1010,\n",
       "    'humidity': 88,\n",
       "    'temp_kf': 0},\n",
       "   'weather': [{'id': 500,\n",
       "     'main': 'Rain',\n",
       "     'description': 'light rain',\n",
       "     'icon': '10n'}],\n",
       "   'clouds': {'all': 92},\n",
       "   'wind': {'speed': 2.21, 'deg': 180, 'gust': 4.1},\n",
       "   'visibility': 10000,\n",
       "   'pop': 0.93,\n",
       "   'rain': {'3h': 2.35},\n",
       "   'sys': {'pod': 'n'},\n",
       "   'dt_txt': '2024-11-05 12:00:00'},\n",
       "  {'dt': 1730818800,\n",
       "   'main': {'temp': 24.71,\n",
       "    'feels_like': 25.64,\n",
       "    'temp_min': 24.71,\n",
       "    'temp_max': 24.71,\n",
       "    'pressure': 1012,\n",
       "    'sea_level': 1012,\n",
       "    'grnd_level': 1012,\n",
       "    'humidity': 92,\n",
       "    'temp_kf': 0},\n",
       "   'weather': [{'id': 501,\n",
       "     'main': 'Rain',\n",
       "     'description': 'moderate rain',\n",
       "     'icon': '10n'}],\n",
       "   'clouds': {'all': 100},\n",
       "   'wind': {'speed': 1.52, 'deg': 340, 'gust': 2.12},\n",
       "   'visibility': 10000,\n",
       "   'pop': 0.96,\n",
       "   'rain': {'3h': 6.1},\n",
       "   'sys': {'pod': 'n'},\n",
       "   'dt_txt': '2024-11-05 15:00:00'},\n",
       "  {'dt': 1730829600,\n",
       "   'main': {'temp': 24.36,\n",
       "    'feels_like': 25.31,\n",
       "    'temp_min': 24.36,\n",
       "    'temp_max': 24.36,\n",
       "    'pressure': 1011,\n",
       "    'sea_level': 1011,\n",
       "    'grnd_level': 1010,\n",
       "    'humidity': 94,\n",
       "    'temp_kf': 0},\n",
       "   'weather': [{'id': 804,\n",
       "     'main': 'Clouds',\n",
       "     'description': 'overcast clouds',\n",
       "     'icon': '04n'}],\n",
       "   'clouds': {'all': 100},\n",
       "   'wind': {'speed': 1.78, 'deg': 298, 'gust': 2.73},\n",
       "   'visibility': 10000,\n",
       "   'pop': 0.76,\n",
       "   'sys': {'pod': 'n'},\n",
       "   'dt_txt': '2024-11-05 18:00:00'},\n",
       "  {'dt': 1730840400,\n",
       "   'main': {'temp': 23.61,\n",
       "    'feels_like': 24.48,\n",
       "    'temp_min': 23.61,\n",
       "    'temp_max': 23.61,\n",
       "    'pressure': 1010,\n",
       "    'sea_level': 1010,\n",
       "    'grnd_level': 1010,\n",
       "    'humidity': 94,\n",
       "    'temp_kf': 0},\n",
       "   'weather': [{'id': 804,\n",
       "     'main': 'Clouds',\n",
       "     'description': 'overcast clouds',\n",
       "     'icon': '04n'}],\n",
       "   'clouds': {'all': 100},\n",
       "   'wind': {'speed': 2.49, 'deg': 352, 'gust': 5.1},\n",
       "   'visibility': 10000,\n",
       "   'pop': 0.33,\n",
       "   'sys': {'pod': 'n'},\n",
       "   'dt_txt': '2024-11-05 21:00:00'},\n",
       "  {'dt': 1730851200,\n",
       "   'main': {'temp': 24.28,\n",
       "    'feels_like': 25.14,\n",
       "    'temp_min': 24.28,\n",
       "    'temp_max': 24.28,\n",
       "    'pressure': 1012,\n",
       "    'sea_level': 1012,\n",
       "    'grnd_level': 1011,\n",
       "    'humidity': 91,\n",
       "    'temp_kf': 0},\n",
       "   'weather': [{'id': 804,\n",
       "     'main': 'Clouds',\n",
       "     'description': 'overcast clouds',\n",
       "     'icon': '04d'}],\n",
       "   'clouds': {'all': 98},\n",
       "   'wind': {'speed': 2.1, 'deg': 10, 'gust': 3.65},\n",
       "   'visibility': 10000,\n",
       "   'pop': 0.29,\n",
       "   'sys': {'pod': 'd'},\n",
       "   'dt_txt': '2024-11-06 00:00:00'},\n",
       "  {'dt': 1730862000,\n",
       "   'main': {'temp': 29.38,\n",
       "    'feels_like': 33.37,\n",
       "    'temp_min': 29.38,\n",
       "    'temp_max': 29.38,\n",
       "    'pressure': 1012,\n",
       "    'sea_level': 1012,\n",
       "    'grnd_level': 1011,\n",
       "    'humidity': 69,\n",
       "    'temp_kf': 0},\n",
       "   'weather': [{'id': 803,\n",
       "     'main': 'Clouds',\n",
       "     'description': 'broken clouds',\n",
       "     'icon': '04d'}],\n",
       "   'clouds': {'all': 75},\n",
       "   'wind': {'speed': 1.98, 'deg': 332, 'gust': 2.21},\n",
       "   'visibility': 10000,\n",
       "   'pop': 0,\n",
       "   'sys': {'pod': 'd'},\n",
       "   'dt_txt': '2024-11-06 03:00:00'},\n",
       "  {'dt': 1730872800,\n",
       "   'main': {'temp': 31.79,\n",
       "    'feels_like': 36.59,\n",
       "    'temp_min': 31.79,\n",
       "    'temp_max': 31.79,\n",
       "    'pressure': 1009,\n",
       "    'sea_level': 1009,\n",
       "    'grnd_level': 1009,\n",
       "    'humidity': 60,\n",
       "    'temp_kf': 0},\n",
       "   'weather': [{'id': 500,\n",
       "     'main': 'Rain',\n",
       "     'description': 'light rain',\n",
       "     'icon': '10d'}],\n",
       "   'clouds': {'all': 50},\n",
       "   'wind': {'speed': 1.99, 'deg': 332, 'gust': 1.87},\n",
       "   'visibility': 10000,\n",
       "   'pop': 0.2,\n",
       "   'rain': {'3h': 0.19},\n",
       "   'sys': {'pod': 'd'},\n",
       "   'dt_txt': '2024-11-06 06:00:00'},\n",
       "  {'dt': 1730883600,\n",
       "   'main': {'temp': 30.64,\n",
       "    'feels_like': 35.57,\n",
       "    'temp_min': 30.64,\n",
       "    'temp_max': 30.64,\n",
       "    'pressure': 1008,\n",
       "    'sea_level': 1008,\n",
       "    'grnd_level': 1007,\n",
       "    'humidity': 66,\n",
       "    'temp_kf': 0},\n",
       "   'weather': [{'id': 500,\n",
       "     'main': 'Rain',\n",
       "     'description': 'light rain',\n",
       "     'icon': '10d'}],\n",
       "   'clouds': {'all': 43},\n",
       "   'wind': {'speed': 1.2, 'deg': 211, 'gust': 0.92},\n",
       "   'visibility': 10000,\n",
       "   'pop': 0.8,\n",
       "   'rain': {'3h': 1.46},\n",
       "   'sys': {'pod': 'd'},\n",
       "   'dt_txt': '2024-11-06 09:00:00'},\n",
       "  {'dt': 1730894400,\n",
       "   'main': {'temp': 25.78,\n",
       "    'feels_like': 26.74,\n",
       "    'temp_min': 25.78,\n",
       "    'temp_max': 25.78,\n",
       "    'pressure': 1010,\n",
       "    'sea_level': 1010,\n",
       "    'grnd_level': 1010,\n",
       "    'humidity': 89,\n",
       "    'temp_kf': 0},\n",
       "   'weather': [{'id': 501,\n",
       "     'main': 'Rain',\n",
       "     'description': 'moderate rain',\n",
       "     'icon': '10n'}],\n",
       "   'clouds': {'all': 43},\n",
       "   'wind': {'speed': 1.98, 'deg': 135, 'gust': 3.4},\n",
       "   'visibility': 10000,\n",
       "   'pop': 0.93,\n",
       "   'rain': {'3h': 3.15},\n",
       "   'sys': {'pod': 'n'},\n",
       "   'dt_txt': '2024-11-06 12:00:00'},\n",
       "  {'dt': 1730905200,\n",
       "   'main': {'temp': 24.28,\n",
       "    'feels_like': 25.22,\n",
       "    'temp_min': 24.28,\n",
       "    'temp_max': 24.28,\n",
       "    'pressure': 1012,\n",
       "    'sea_level': 1012,\n",
       "    'grnd_level': 1011,\n",
       "    'humidity': 94,\n",
       "    'temp_kf': 0},\n",
       "   'weather': [{'id': 501,\n",
       "     'main': 'Rain',\n",
       "     'description': 'moderate rain',\n",
       "     'icon': '10n'}],\n",
       "   'clouds': {'all': 60},\n",
       "   'wind': {'speed': 1.59, 'deg': 168, 'gust': 2.41},\n",
       "   'visibility': 10000,\n",
       "   'pop': 0.75,\n",
       "   'rain': {'3h': 3.06},\n",
       "   'sys': {'pod': 'n'},\n",
       "   'dt_txt': '2024-11-06 15:00:00'},\n",
       "  {'dt': 1730916000,\n",
       "   'main': {'temp': 24.47,\n",
       "    'feels_like': 25.4,\n",
       "    'temp_min': 24.47,\n",
       "    'temp_max': 24.47,\n",
       "    'pressure': 1010,\n",
       "    'sea_level': 1010,\n",
       "    'grnd_level': 1010,\n",
       "    'humidity': 93,\n",
       "    'temp_kf': 0},\n",
       "   'weather': [{'id': 500,\n",
       "     'main': 'Rain',\n",
       "     'description': 'light rain',\n",
       "     'icon': '10n'}],\n",
       "   'clouds': {'all': 65},\n",
       "   'wind': {'speed': 0.97, 'deg': 294, 'gust': 1.1},\n",
       "   'visibility': 10000,\n",
       "   'pop': 0.95,\n",
       "   'rain': {'3h': 0.52},\n",
       "   'sys': {'pod': 'n'},\n",
       "   'dt_txt': '2024-11-06 18:00:00'},\n",
       "  {'dt': 1730926800,\n",
       "   'main': {'temp': 23.55,\n",
       "    'feels_like': 24.47,\n",
       "    'temp_min': 23.55,\n",
       "    'temp_max': 23.55,\n",
       "    'pressure': 1010,\n",
       "    'sea_level': 1010,\n",
       "    'grnd_level': 1009,\n",
       "    'humidity': 96,\n",
       "    'temp_kf': 0},\n",
       "   'weather': [{'id': 501,\n",
       "     'main': 'Rain',\n",
       "     'description': 'moderate rain',\n",
       "     'icon': '10n'}],\n",
       "   'clouds': {'all': 64},\n",
       "   'wind': {'speed': 1.59, 'deg': 337, 'gust': 2.31},\n",
       "   'visibility': 10000,\n",
       "   'pop': 0.93,\n",
       "   'rain': {'3h': 3.54},\n",
       "   'sys': {'pod': 'n'},\n",
       "   'dt_txt': '2024-11-06 21:00:00'},\n",
       "  {'dt': 1730937600,\n",
       "   'main': {'temp': 24.36,\n",
       "    'feels_like': 25.31,\n",
       "    'temp_min': 24.36,\n",
       "    'temp_max': 24.36,\n",
       "    'pressure': 1012,\n",
       "    'sea_level': 1012,\n",
       "    'grnd_level': 1011,\n",
       "    'humidity': 94,\n",
       "    'temp_kf': 0},\n",
       "   'weather': [{'id': 500,\n",
       "     'main': 'Rain',\n",
       "     'description': 'light rain',\n",
       "     'icon': '10d'}],\n",
       "   'clouds': {'all': 78},\n",
       "   'wind': {'speed': 0.75, 'deg': 27, 'gust': 1.01},\n",
       "   'visibility': 10000,\n",
       "   'pop': 1,\n",
       "   'rain': {'3h': 1.83},\n",
       "   'sys': {'pod': 'd'},\n",
       "   'dt_txt': '2024-11-07 00:00:00'},\n",
       "  {'dt': 1730948400,\n",
       "   'main': {'temp': 27.35,\n",
       "    'feels_like': 30.77,\n",
       "    'temp_min': 27.35,\n",
       "    'temp_max': 27.35,\n",
       "    'pressure': 1012,\n",
       "    'sea_level': 1012,\n",
       "    'grnd_level': 1012,\n",
       "    'humidity': 82,\n",
       "    'temp_kf': 0},\n",
       "   'weather': [{'id': 500,\n",
       "     'main': 'Rain',\n",
       "     'description': 'light rain',\n",
       "     'icon': '10d'}],\n",
       "   'clouds': {'all': 100},\n",
       "   'wind': {'speed': 1.13, 'deg': 352, 'gust': 1},\n",
       "   'visibility': 10000,\n",
       "   'pop': 0.91,\n",
       "   'rain': {'3h': 2.63},\n",
       "   'sys': {'pod': 'd'},\n",
       "   'dt_txt': '2024-11-07 03:00:00'},\n",
       "  {'dt': 1730959200,\n",
       "   'main': {'temp': 30.85,\n",
       "    'feels_like': 35.28,\n",
       "    'temp_min': 30.85,\n",
       "    'temp_max': 30.85,\n",
       "    'pressure': 1009,\n",
       "    'sea_level': 1009,\n",
       "    'grnd_level': 1009,\n",
       "    'humidity': 63,\n",
       "    'temp_kf': 0},\n",
       "   'weather': [{'id': 500,\n",
       "     'main': 'Rain',\n",
       "     'description': 'light rain',\n",
       "     'icon': '10d'}],\n",
       "   'clouds': {'all': 93},\n",
       "   'wind': {'speed': 1.12, 'deg': 358, 'gust': 2.21},\n",
       "   'visibility': 10000,\n",
       "   'pop': 0.92,\n",
       "   'rain': {'3h': 1.98},\n",
       "   'sys': {'pod': 'd'},\n",
       "   'dt_txt': '2024-11-07 06:00:00'},\n",
       "  {'dt': 1730970000,\n",
       "   'main': {'temp': 28.82,\n",
       "    'feels_like': 32.88,\n",
       "    'temp_min': 28.82,\n",
       "    'temp_max': 28.82,\n",
       "    'pressure': 1008,\n",
       "    'sea_level': 1008,\n",
       "    'grnd_level': 1008,\n",
       "    'humidity': 73,\n",
       "    'temp_kf': 0},\n",
       "   'weather': [{'id': 500,\n",
       "     'main': 'Rain',\n",
       "     'description': 'light rain',\n",
       "     'icon': '10d'}],\n",
       "   'clouds': {'all': 100},\n",
       "   'wind': {'speed': 1.61, 'deg': 165, 'gust': 1.9},\n",
       "   'visibility': 10000,\n",
       "   'pop': 0.77,\n",
       "   'rain': {'3h': 1.6},\n",
       "   'sys': {'pod': 'd'},\n",
       "   'dt_txt': '2024-11-07 09:00:00'},\n",
       "  {'dt': 1730980800,\n",
       "   'main': {'temp': 25.63,\n",
       "    'feels_like': 26.52,\n",
       "    'temp_min': 25.63,\n",
       "    'temp_max': 25.63,\n",
       "    'pressure': 1010,\n",
       "    'sea_level': 1010,\n",
       "    'grnd_level': 1010,\n",
       "    'humidity': 87,\n",
       "    'temp_kf': 0},\n",
       "   'weather': [{'id': 500,\n",
       "     'main': 'Rain',\n",
       "     'description': 'light rain',\n",
       "     'icon': '10n'}],\n",
       "   'clouds': {'all': 100},\n",
       "   'wind': {'speed': 1.5, 'deg': 221, 'gust': 1.92},\n",
       "   'visibility': 10000,\n",
       "   'pop': 0.81,\n",
       "   'rain': {'3h': 0.69},\n",
       "   'sys': {'pod': 'n'},\n",
       "   'dt_txt': '2024-11-07 12:00:00'},\n",
       "  {'dt': 1730991600,\n",
       "   'main': {'temp': 25.01,\n",
       "    'feels_like': 25.89,\n",
       "    'temp_min': 25.01,\n",
       "    'temp_max': 25.01,\n",
       "    'pressure': 1012,\n",
       "    'sea_level': 1012,\n",
       "    'grnd_level': 1011,\n",
       "    'humidity': 89,\n",
       "    'temp_kf': 0},\n",
       "   'weather': [{'id': 500,\n",
       "     'main': 'Rain',\n",
       "     'description': 'light rain',\n",
       "     'icon': '10n'}],\n",
       "   'clouds': {'all': 99},\n",
       "   'wind': {'speed': 1.57, 'deg': 271, 'gust': 1.74},\n",
       "   'visibility': 10000,\n",
       "   'pop': 0.37,\n",
       "   'rain': {'3h': 0.1},\n",
       "   'sys': {'pod': 'n'},\n",
       "   'dt_txt': '2024-11-07 15:00:00'},\n",
       "  {'dt': 1731002400,\n",
       "   'main': {'temp': 24.26,\n",
       "    'feels_like': 25.17,\n",
       "    'temp_min': 24.26,\n",
       "    'temp_max': 24.26,\n",
       "    'pressure': 1011,\n",
       "    'sea_level': 1011,\n",
       "    'grnd_level': 1010,\n",
       "    'humidity': 93,\n",
       "    'temp_kf': 0},\n",
       "   'weather': [{'id': 500,\n",
       "     'main': 'Rain',\n",
       "     'description': 'light rain',\n",
       "     'icon': '10n'}],\n",
       "   'clouds': {'all': 99},\n",
       "   'wind': {'speed': 1.87, 'deg': 310, 'gust': 3.05},\n",
       "   'visibility': 10000,\n",
       "   'pop': 0.39,\n",
       "   'rain': {'3h': 0.37},\n",
       "   'sys': {'pod': 'n'},\n",
       "   'dt_txt': '2024-11-07 18:00:00'},\n",
       "  {'dt': 1731013200,\n",
       "   'main': {'temp': 23.55,\n",
       "    'feels_like': 24.39,\n",
       "    'temp_min': 23.55,\n",
       "    'temp_max': 23.55,\n",
       "    'pressure': 1010,\n",
       "    'sea_level': 1010,\n",
       "    'grnd_level': 1009,\n",
       "    'humidity': 93,\n",
       "    'temp_kf': 0},\n",
       "   'weather': [{'id': 500,\n",
       "     'main': 'Rain',\n",
       "     'description': 'light rain',\n",
       "     'icon': '10n'}],\n",
       "   'clouds': {'all': 100},\n",
       "   'wind': {'speed': 1.69, 'deg': 345, 'gust': 2.73},\n",
       "   'visibility': 10000,\n",
       "   'pop': 0.55,\n",
       "   'rain': {'3h': 0.48},\n",
       "   'sys': {'pod': 'n'},\n",
       "   'dt_txt': '2024-11-07 21:00:00'},\n",
       "  {'dt': 1731024000,\n",
       "   'main': {'temp': 24.07,\n",
       "    'feels_like': 24.88,\n",
       "    'temp_min': 24.07,\n",
       "    'temp_max': 24.07,\n",
       "    'pressure': 1011,\n",
       "    'sea_level': 1011,\n",
       "    'grnd_level': 1010,\n",
       "    'humidity': 90,\n",
       "    'temp_kf': 0},\n",
       "   'weather': [{'id': 804,\n",
       "     'main': 'Clouds',\n",
       "     'description': 'overcast clouds',\n",
       "     'icon': '04d'}],\n",
       "   'clouds': {'all': 100},\n",
       "   'wind': {'speed': 1.87, 'deg': 347, 'gust': 3.29},\n",
       "   'visibility': 10000,\n",
       "   'pop': 0.35,\n",
       "   'sys': {'pod': 'd'},\n",
       "   'dt_txt': '2024-11-08 00:00:00'},\n",
       "  {'dt': 1731034800,\n",
       "   'main': {'temp': 26.58,\n",
       "    'feels_like': 26.58,\n",
       "    'temp_min': 26.58,\n",
       "    'temp_max': 26.58,\n",
       "    'pressure': 1012,\n",
       "    'sea_level': 1012,\n",
       "    'grnd_level': 1011,\n",
       "    'humidity': 79,\n",
       "    'temp_kf': 0},\n",
       "   'weather': [{'id': 804,\n",
       "     'main': 'Clouds',\n",
       "     'description': 'overcast clouds',\n",
       "     'icon': '04d'}],\n",
       "   'clouds': {'all': 100},\n",
       "   'wind': {'speed': 1.84, 'deg': 36, 'gust': 2.37},\n",
       "   'visibility': 10000,\n",
       "   'pop': 0.29,\n",
       "   'sys': {'pod': 'd'},\n",
       "   'dt_txt': '2024-11-08 03:00:00'},\n",
       "  {'dt': 1731045600,\n",
       "   'main': {'temp': 27.83,\n",
       "    'feels_like': 30.72,\n",
       "    'temp_min': 27.83,\n",
       "    'temp_max': 27.83,\n",
       "    'pressure': 1010,\n",
       "    'sea_level': 1010,\n",
       "    'grnd_level': 1009,\n",
       "    'humidity': 73,\n",
       "    'temp_kf': 0},\n",
       "   'weather': [{'id': 500,\n",
       "     'main': 'Rain',\n",
       "     'description': 'light rain',\n",
       "     'icon': '10d'}],\n",
       "   'clouds': {'all': 100},\n",
       "   'wind': {'speed': 1.45, 'deg': 48, 'gust': 1.57},\n",
       "   'visibility': 10000,\n",
       "   'pop': 0.4,\n",
       "   'rain': {'3h': 0.19},\n",
       "   'sys': {'pod': 'd'},\n",
       "   'dt_txt': '2024-11-08 06:00:00'},\n",
       "  {'dt': 1731056400,\n",
       "   'main': {'temp': 27,\n",
       "    'feels_like': 29.74,\n",
       "    'temp_min': 27,\n",
       "    'temp_max': 27,\n",
       "    'pressure': 1009,\n",
       "    'sea_level': 1009,\n",
       "    'grnd_level': 1008,\n",
       "    'humidity': 80,\n",
       "    'temp_kf': 0},\n",
       "   'weather': [{'id': 804,\n",
       "     'main': 'Clouds',\n",
       "     'description': 'overcast clouds',\n",
       "     'icon': '04d'}],\n",
       "   'clouds': {'all': 100},\n",
       "   'wind': {'speed': 2.11, 'deg': 58, 'gust': 2.8},\n",
       "   'visibility': 10000,\n",
       "   'pop': 0.2,\n",
       "   'sys': {'pod': 'd'},\n",
       "   'dt_txt': '2024-11-08 09:00:00'},\n",
       "  {'dt': 1731067200,\n",
       "   'main': {'temp': 25.21,\n",
       "    'feels_like': 26.06,\n",
       "    'temp_min': 25.21,\n",
       "    'temp_max': 25.21,\n",
       "    'pressure': 1011,\n",
       "    'sea_level': 1011,\n",
       "    'grnd_level': 1010,\n",
       "    'humidity': 87,\n",
       "    'temp_kf': 0},\n",
       "   'weather': [{'id': 804,\n",
       "     'main': 'Clouds',\n",
       "     'description': 'overcast clouds',\n",
       "     'icon': '04n'}],\n",
       "   'clouds': {'all': 100},\n",
       "   'wind': {'speed': 1.03, 'deg': 96, 'gust': 1.07},\n",
       "   'visibility': 10000,\n",
       "   'pop': 0.33,\n",
       "   'sys': {'pod': 'n'},\n",
       "   'dt_txt': '2024-11-08 12:00:00'},\n",
       "  {'dt': 1731078000,\n",
       "   'main': {'temp': 24.8,\n",
       "    'feels_like': 25.61,\n",
       "    'temp_min': 24.8,\n",
       "    'temp_max': 24.8,\n",
       "    'pressure': 1012,\n",
       "    'sea_level': 1012,\n",
       "    'grnd_level': 1011,\n",
       "    'humidity': 87,\n",
       "    'temp_kf': 0},\n",
       "   'weather': [{'id': 804,\n",
       "     'main': 'Clouds',\n",
       "     'description': 'overcast clouds',\n",
       "     'icon': '04n'}],\n",
       "   'clouds': {'all': 100},\n",
       "   'wind': {'speed': 1.16, 'deg': 257, 'gust': 1.25},\n",
       "   'visibility': 10000,\n",
       "   'pop': 0,\n",
       "   'sys': {'pod': 'n'},\n",
       "   'dt_txt': '2024-11-08 15:00:00'},\n",
       "  {'dt': 1731088800,\n",
       "   'main': {'temp': 23.99,\n",
       "    'feels_like': 24.79,\n",
       "    'temp_min': 23.99,\n",
       "    'temp_max': 23.99,\n",
       "    'pressure': 1011,\n",
       "    'sea_level': 1011,\n",
       "    'grnd_level': 1010,\n",
       "    'humidity': 90,\n",
       "    'temp_kf': 0},\n",
       "   'weather': [{'id': 804,\n",
       "     'main': 'Clouds',\n",
       "     'description': 'overcast clouds',\n",
       "     'icon': '04n'}],\n",
       "   'clouds': {'all': 100},\n",
       "   'wind': {'speed': 1.13, 'deg': 322, 'gust': 1.27},\n",
       "   'visibility': 10000,\n",
       "   'pop': 0,\n",
       "   'sys': {'pod': 'n'},\n",
       "   'dt_txt': '2024-11-08 18:00:00'},\n",
       "  {'dt': 1731099600,\n",
       "   'main': {'temp': 23.31,\n",
       "    'feels_like': 23.97,\n",
       "    'temp_min': 23.31,\n",
       "    'temp_max': 23.31,\n",
       "    'pressure': 1010,\n",
       "    'sea_level': 1010,\n",
       "    'grnd_level': 1009,\n",
       "    'humidity': 87,\n",
       "    'temp_kf': 0},\n",
       "   'weather': [{'id': 804,\n",
       "     'main': 'Clouds',\n",
       "     'description': 'overcast clouds',\n",
       "     'icon': '04n'}],\n",
       "   'clouds': {'all': 98},\n",
       "   'wind': {'speed': 1.84, 'deg': 321, 'gust': 2.7},\n",
       "   'visibility': 10000,\n",
       "   'pop': 0.13,\n",
       "   'sys': {'pod': 'n'},\n",
       "   'dt_txt': '2024-11-08 21:00:00'},\n",
       "  {'dt': 1731110400,\n",
       "   'main': {'temp': 23.98,\n",
       "    'feels_like': 24.57,\n",
       "    'temp_min': 23.98,\n",
       "    'temp_max': 23.98,\n",
       "    'pressure': 1011,\n",
       "    'sea_level': 1011,\n",
       "    'grnd_level': 1011,\n",
       "    'humidity': 82,\n",
       "    'temp_kf': 0},\n",
       "   'weather': [{'id': 804,\n",
       "     'main': 'Clouds',\n",
       "     'description': 'overcast clouds',\n",
       "     'icon': '04d'}],\n",
       "   'clouds': {'all': 95},\n",
       "   'wind': {'speed': 1.47, 'deg': 340, 'gust': 2.17},\n",
       "   'visibility': 10000,\n",
       "   'pop': 0.13,\n",
       "   'sys': {'pod': 'd'},\n",
       "   'dt_txt': '2024-11-09 00:00:00'},\n",
       "  {'dt': 1731121200,\n",
       "   'main': {'temp': 28.52,\n",
       "    'feels_like': 31.39,\n",
       "    'temp_min': 28.52,\n",
       "    'temp_max': 28.52,\n",
       "    'pressure': 1012,\n",
       "    'sea_level': 1012,\n",
       "    'grnd_level': 1012,\n",
       "    'humidity': 68,\n",
       "    'temp_kf': 0},\n",
       "   'weather': [{'id': 804,\n",
       "     'main': 'Clouds',\n",
       "     'description': 'overcast clouds',\n",
       "     'icon': '04d'}],\n",
       "   'clouds': {'all': 100},\n",
       "   'wind': {'speed': 1.2, 'deg': 333, 'gust': 0.87},\n",
       "   'visibility': 10000,\n",
       "   'pop': 0,\n",
       "   'sys': {'pod': 'd'},\n",
       "   'dt_txt': '2024-11-09 03:00:00'},\n",
       "  {'dt': 1731132000,\n",
       "   'main': {'temp': 30.19,\n",
       "    'feels_like': 34.3,\n",
       "    'temp_min': 30.19,\n",
       "    'temp_max': 30.19,\n",
       "    'pressure': 1010,\n",
       "    'sea_level': 1010,\n",
       "    'grnd_level': 1009,\n",
       "    'humidity': 65,\n",
       "    'temp_kf': 0},\n",
       "   'weather': [{'id': 500,\n",
       "     'main': 'Rain',\n",
       "     'description': 'light rain',\n",
       "     'icon': '10d'}],\n",
       "   'clouds': {'all': 100},\n",
       "   'wind': {'speed': 0.29, 'deg': 231, 'gust': 0.81},\n",
       "   'visibility': 7513,\n",
       "   'pop': 0.57,\n",
       "   'rain': {'3h': 0.98},\n",
       "   'sys': {'pod': 'd'},\n",
       "   'dt_txt': '2024-11-09 06:00:00'},\n",
       "  {'dt': 1731142800,\n",
       "   'main': {'temp': 28.66,\n",
       "    'feels_like': 32.69,\n",
       "    'temp_min': 28.66,\n",
       "    'temp_max': 28.66,\n",
       "    'pressure': 1009,\n",
       "    'sea_level': 1009,\n",
       "    'grnd_level': 1009,\n",
       "    'humidity': 74,\n",
       "    'temp_kf': 0},\n",
       "   'weather': [{'id': 500,\n",
       "     'main': 'Rain',\n",
       "     'description': 'light rain',\n",
       "     'icon': '10d'}],\n",
       "   'clouds': {'all': 55},\n",
       "   'wind': {'speed': 1.06, 'deg': 181, 'gust': 1.13},\n",
       "   'visibility': 10000,\n",
       "   'pop': 0.93,\n",
       "   'rain': {'3h': 2.67},\n",
       "   'sys': {'pod': 'd'},\n",
       "   'dt_txt': '2024-11-09 09:00:00'},\n",
       "  {'dt': 1731153600,\n",
       "   'main': {'temp': 24.59,\n",
       "    'feels_like': 25.51,\n",
       "    'temp_min': 24.59,\n",
       "    'temp_max': 24.59,\n",
       "    'pressure': 1011,\n",
       "    'sea_level': 1011,\n",
       "    'grnd_level': 1011,\n",
       "    'humidity': 92,\n",
       "    'temp_kf': 0},\n",
       "   'weather': [{'id': 501,\n",
       "     'main': 'Rain',\n",
       "     'description': 'moderate rain',\n",
       "     'icon': '10n'}],\n",
       "   'clouds': {'all': 43},\n",
       "   'wind': {'speed': 1.86, 'deg': 189, 'gust': 2},\n",
       "   'visibility': 10000,\n",
       "   'pop': 1,\n",
       "   'rain': {'3h': 4.71},\n",
       "   'sys': {'pod': 'n'},\n",
       "   'dt_txt': '2024-11-09 12:00:00'}],\n",
       " 'city': {'id': 1566083,\n",
       "  'name': 'Ho Chi Minh City',\n",
       "  'coord': {'lat': 10.75, 'lon': 106.6667},\n",
       "  'country': 'VN',\n",
       "  'population': 1000000,\n",
       "  'timezone': 25200,\n",
       "  'sunrise': 1730673922,\n",
       "  'sunset': 1730716103}}"
      ]
     },
     "metadata": {},
     "output_type": "display_data"
    }
   ],
   "source": [
    "import requests\n",
    "import pandas as pd\n",
    "import matplotlib.pyplot as plt\n",
    "import plotly.express as px\n",
    "\n",
    "# Replace with your own OpenWeatherMap API key\n",
    "API_KEY = '035cbc8aa2af3c9308c97298dae14158'\n",
    "CITY_NAME = 'Ho Chi Minh City'\n",
    "BASE_URL = 'http://api.openweathermap.org/data/2.5/forecast'\n",
    "\n",
    "# Make the API request\n",
    "params = {\n",
    "    'q': CITY_NAME,\n",
    "    'appid': API_KEY,\n",
    "    'units': 'metric'  # Use 'metric' to get temperature in Celsius\n",
    "}\n",
    "\n",
    "response = requests.get(BASE_URL, params=params)\n",
    "data = response.json()\n",
    "display(data)"
   ]
  },
  {
   "cell_type": "code",
   "execution_count": 21,
   "metadata": {},
   "outputs": [
    {
     "data": {
      "text/html": [
       "<div>\n",
       "<style scoped>\n",
       "    .dataframe tbody tr th:only-of-type {\n",
       "        vertical-align: middle;\n",
       "    }\n",
       "\n",
       "    .dataframe tbody tr th {\n",
       "        vertical-align: top;\n",
       "    }\n",
       "\n",
       "    .dataframe thead th {\n",
       "        text-align: right;\n",
       "    }\n",
       "</style>\n",
       "<table border=\"1\" class=\"dataframe\">\n",
       "  <thead>\n",
       "    <tr style=\"text-align: right;\">\n",
       "      <th></th>\n",
       "      <th>Date</th>\n",
       "      <th>Temperature</th>\n",
       "      <th>Description</th>\n",
       "    </tr>\n",
       "  </thead>\n",
       "  <tbody>\n",
       "    <tr>\n",
       "      <th>0</th>\n",
       "      <td>2024-11-04 15:00:00</td>\n",
       "      <td>28.37</td>\n",
       "      <td>clear sky</td>\n",
       "    </tr>\n",
       "    <tr>\n",
       "      <th>1</th>\n",
       "      <td>2024-11-04 18:00:00</td>\n",
       "      <td>27.22</td>\n",
       "      <td>light rain</td>\n",
       "    </tr>\n",
       "    <tr>\n",
       "      <th>2</th>\n",
       "      <td>2024-11-04 21:00:00</td>\n",
       "      <td>25.77</td>\n",
       "      <td>broken clouds</td>\n",
       "    </tr>\n",
       "    <tr>\n",
       "      <th>3</th>\n",
       "      <td>2024-11-05 00:00:00</td>\n",
       "      <td>25.66</td>\n",
       "      <td>overcast clouds</td>\n",
       "    </tr>\n",
       "    <tr>\n",
       "      <th>4</th>\n",
       "      <td>2024-11-05 03:00:00</td>\n",
       "      <td>30.68</td>\n",
       "      <td>light rain</td>\n",
       "    </tr>\n",
       "    <tr>\n",
       "      <th>5</th>\n",
       "      <td>2024-11-05 06:00:00</td>\n",
       "      <td>32.16</td>\n",
       "      <td>light rain</td>\n",
       "    </tr>\n",
       "    <tr>\n",
       "      <th>6</th>\n",
       "      <td>2024-11-05 09:00:00</td>\n",
       "      <td>27.57</td>\n",
       "      <td>moderate rain</td>\n",
       "    </tr>\n",
       "    <tr>\n",
       "      <th>7</th>\n",
       "      <td>2024-11-05 12:00:00</td>\n",
       "      <td>25.38</td>\n",
       "      <td>light rain</td>\n",
       "    </tr>\n",
       "    <tr>\n",
       "      <th>8</th>\n",
       "      <td>2024-11-05 15:00:00</td>\n",
       "      <td>24.71</td>\n",
       "      <td>moderate rain</td>\n",
       "    </tr>\n",
       "    <tr>\n",
       "      <th>9</th>\n",
       "      <td>2024-11-05 18:00:00</td>\n",
       "      <td>24.36</td>\n",
       "      <td>overcast clouds</td>\n",
       "    </tr>\n",
       "    <tr>\n",
       "      <th>10</th>\n",
       "      <td>2024-11-05 21:00:00</td>\n",
       "      <td>23.61</td>\n",
       "      <td>overcast clouds</td>\n",
       "    </tr>\n",
       "    <tr>\n",
       "      <th>11</th>\n",
       "      <td>2024-11-06 00:00:00</td>\n",
       "      <td>24.28</td>\n",
       "      <td>overcast clouds</td>\n",
       "    </tr>\n",
       "    <tr>\n",
       "      <th>12</th>\n",
       "      <td>2024-11-06 03:00:00</td>\n",
       "      <td>29.38</td>\n",
       "      <td>broken clouds</td>\n",
       "    </tr>\n",
       "    <tr>\n",
       "      <th>13</th>\n",
       "      <td>2024-11-06 06:00:00</td>\n",
       "      <td>31.79</td>\n",
       "      <td>light rain</td>\n",
       "    </tr>\n",
       "    <tr>\n",
       "      <th>14</th>\n",
       "      <td>2024-11-06 09:00:00</td>\n",
       "      <td>30.64</td>\n",
       "      <td>light rain</td>\n",
       "    </tr>\n",
       "    <tr>\n",
       "      <th>15</th>\n",
       "      <td>2024-11-06 12:00:00</td>\n",
       "      <td>25.78</td>\n",
       "      <td>moderate rain</td>\n",
       "    </tr>\n",
       "    <tr>\n",
       "      <th>16</th>\n",
       "      <td>2024-11-06 15:00:00</td>\n",
       "      <td>24.28</td>\n",
       "      <td>moderate rain</td>\n",
       "    </tr>\n",
       "    <tr>\n",
       "      <th>17</th>\n",
       "      <td>2024-11-06 18:00:00</td>\n",
       "      <td>24.47</td>\n",
       "      <td>light rain</td>\n",
       "    </tr>\n",
       "    <tr>\n",
       "      <th>18</th>\n",
       "      <td>2024-11-06 21:00:00</td>\n",
       "      <td>23.55</td>\n",
       "      <td>moderate rain</td>\n",
       "    </tr>\n",
       "    <tr>\n",
       "      <th>19</th>\n",
       "      <td>2024-11-07 00:00:00</td>\n",
       "      <td>24.36</td>\n",
       "      <td>light rain</td>\n",
       "    </tr>\n",
       "    <tr>\n",
       "      <th>20</th>\n",
       "      <td>2024-11-07 03:00:00</td>\n",
       "      <td>27.35</td>\n",
       "      <td>light rain</td>\n",
       "    </tr>\n",
       "    <tr>\n",
       "      <th>21</th>\n",
       "      <td>2024-11-07 06:00:00</td>\n",
       "      <td>30.85</td>\n",
       "      <td>light rain</td>\n",
       "    </tr>\n",
       "    <tr>\n",
       "      <th>22</th>\n",
       "      <td>2024-11-07 09:00:00</td>\n",
       "      <td>28.82</td>\n",
       "      <td>light rain</td>\n",
       "    </tr>\n",
       "    <tr>\n",
       "      <th>23</th>\n",
       "      <td>2024-11-07 12:00:00</td>\n",
       "      <td>25.63</td>\n",
       "      <td>light rain</td>\n",
       "    </tr>\n",
       "    <tr>\n",
       "      <th>24</th>\n",
       "      <td>2024-11-07 15:00:00</td>\n",
       "      <td>25.01</td>\n",
       "      <td>light rain</td>\n",
       "    </tr>\n",
       "    <tr>\n",
       "      <th>25</th>\n",
       "      <td>2024-11-07 18:00:00</td>\n",
       "      <td>24.26</td>\n",
       "      <td>light rain</td>\n",
       "    </tr>\n",
       "    <tr>\n",
       "      <th>26</th>\n",
       "      <td>2024-11-07 21:00:00</td>\n",
       "      <td>23.55</td>\n",
       "      <td>light rain</td>\n",
       "    </tr>\n",
       "    <tr>\n",
       "      <th>27</th>\n",
       "      <td>2024-11-08 00:00:00</td>\n",
       "      <td>24.07</td>\n",
       "      <td>overcast clouds</td>\n",
       "    </tr>\n",
       "    <tr>\n",
       "      <th>28</th>\n",
       "      <td>2024-11-08 03:00:00</td>\n",
       "      <td>26.58</td>\n",
       "      <td>overcast clouds</td>\n",
       "    </tr>\n",
       "    <tr>\n",
       "      <th>29</th>\n",
       "      <td>2024-11-08 06:00:00</td>\n",
       "      <td>27.83</td>\n",
       "      <td>light rain</td>\n",
       "    </tr>\n",
       "    <tr>\n",
       "      <th>30</th>\n",
       "      <td>2024-11-08 09:00:00</td>\n",
       "      <td>27.00</td>\n",
       "      <td>overcast clouds</td>\n",
       "    </tr>\n",
       "    <tr>\n",
       "      <th>31</th>\n",
       "      <td>2024-11-08 12:00:00</td>\n",
       "      <td>25.21</td>\n",
       "      <td>overcast clouds</td>\n",
       "    </tr>\n",
       "    <tr>\n",
       "      <th>32</th>\n",
       "      <td>2024-11-08 15:00:00</td>\n",
       "      <td>24.80</td>\n",
       "      <td>overcast clouds</td>\n",
       "    </tr>\n",
       "    <tr>\n",
       "      <th>33</th>\n",
       "      <td>2024-11-08 18:00:00</td>\n",
       "      <td>23.99</td>\n",
       "      <td>overcast clouds</td>\n",
       "    </tr>\n",
       "    <tr>\n",
       "      <th>34</th>\n",
       "      <td>2024-11-08 21:00:00</td>\n",
       "      <td>23.31</td>\n",
       "      <td>overcast clouds</td>\n",
       "    </tr>\n",
       "    <tr>\n",
       "      <th>35</th>\n",
       "      <td>2024-11-09 00:00:00</td>\n",
       "      <td>23.98</td>\n",
       "      <td>overcast clouds</td>\n",
       "    </tr>\n",
       "    <tr>\n",
       "      <th>36</th>\n",
       "      <td>2024-11-09 03:00:00</td>\n",
       "      <td>28.52</td>\n",
       "      <td>overcast clouds</td>\n",
       "    </tr>\n",
       "    <tr>\n",
       "      <th>37</th>\n",
       "      <td>2024-11-09 06:00:00</td>\n",
       "      <td>30.19</td>\n",
       "      <td>light rain</td>\n",
       "    </tr>\n",
       "    <tr>\n",
       "      <th>38</th>\n",
       "      <td>2024-11-09 09:00:00</td>\n",
       "      <td>28.66</td>\n",
       "      <td>light rain</td>\n",
       "    </tr>\n",
       "    <tr>\n",
       "      <th>39</th>\n",
       "      <td>2024-11-09 12:00:00</td>\n",
       "      <td>24.59</td>\n",
       "      <td>moderate rain</td>\n",
       "    </tr>\n",
       "  </tbody>\n",
       "</table>\n",
       "</div>"
      ],
      "text/plain": [
       "                   Date  Temperature      Description\n",
       "0   2024-11-04 15:00:00        28.37        clear sky\n",
       "1   2024-11-04 18:00:00        27.22       light rain\n",
       "2   2024-11-04 21:00:00        25.77    broken clouds\n",
       "3   2024-11-05 00:00:00        25.66  overcast clouds\n",
       "4   2024-11-05 03:00:00        30.68       light rain\n",
       "5   2024-11-05 06:00:00        32.16       light rain\n",
       "6   2024-11-05 09:00:00        27.57    moderate rain\n",
       "7   2024-11-05 12:00:00        25.38       light rain\n",
       "8   2024-11-05 15:00:00        24.71    moderate rain\n",
       "9   2024-11-05 18:00:00        24.36  overcast clouds\n",
       "10  2024-11-05 21:00:00        23.61  overcast clouds\n",
       "11  2024-11-06 00:00:00        24.28  overcast clouds\n",
       "12  2024-11-06 03:00:00        29.38    broken clouds\n",
       "13  2024-11-06 06:00:00        31.79       light rain\n",
       "14  2024-11-06 09:00:00        30.64       light rain\n",
       "15  2024-11-06 12:00:00        25.78    moderate rain\n",
       "16  2024-11-06 15:00:00        24.28    moderate rain\n",
       "17  2024-11-06 18:00:00        24.47       light rain\n",
       "18  2024-11-06 21:00:00        23.55    moderate rain\n",
       "19  2024-11-07 00:00:00        24.36       light rain\n",
       "20  2024-11-07 03:00:00        27.35       light rain\n",
       "21  2024-11-07 06:00:00        30.85       light rain\n",
       "22  2024-11-07 09:00:00        28.82       light rain\n",
       "23  2024-11-07 12:00:00        25.63       light rain\n",
       "24  2024-11-07 15:00:00        25.01       light rain\n",
       "25  2024-11-07 18:00:00        24.26       light rain\n",
       "26  2024-11-07 21:00:00        23.55       light rain\n",
       "27  2024-11-08 00:00:00        24.07  overcast clouds\n",
       "28  2024-11-08 03:00:00        26.58  overcast clouds\n",
       "29  2024-11-08 06:00:00        27.83       light rain\n",
       "30  2024-11-08 09:00:00        27.00  overcast clouds\n",
       "31  2024-11-08 12:00:00        25.21  overcast clouds\n",
       "32  2024-11-08 15:00:00        24.80  overcast clouds\n",
       "33  2024-11-08 18:00:00        23.99  overcast clouds\n",
       "34  2024-11-08 21:00:00        23.31  overcast clouds\n",
       "35  2024-11-09 00:00:00        23.98  overcast clouds\n",
       "36  2024-11-09 03:00:00        28.52  overcast clouds\n",
       "37  2024-11-09 06:00:00        30.19       light rain\n",
       "38  2024-11-09 09:00:00        28.66       light rain\n",
       "39  2024-11-09 12:00:00        24.59    moderate rain"
      ]
     },
     "metadata": {},
     "output_type": "display_data"
    }
   ],
   "source": [
    "\n",
    "# Extract relevant data\n",
    "forecast_list = data['list']\n",
    "dates = [item['dt_txt'] for item in forecast_list]\n",
    "temperatures = [item['main']['temp'] for item in forecast_list]\n",
    "descriptions = [item['weather'][0]['description'] for item in forecast_list]\n",
    "\n",
    "# Create a DataFrame\n",
    "df = pd.DataFrame({\n",
    "    'Date': dates,\n",
    "    'Temperature': temperatures,\n",
    "    'Description': descriptions\n",
    "})\n",
    "display(df)"
   ]
  },
  {
   "cell_type": "code",
   "execution_count": 3,
   "metadata": {},
   "outputs": [
    {
     "data": {
      "application/vnd.plotly.v1+json": {
       "config": {
        "plotlyServerURL": "https://plot.ly"
       },
       "data": [
        {
         "hovertemplate": "Date=%{x}<br>Temperature=%{y}<extra></extra>",
         "legendgroup": "",
         "line": {
          "color": "#636efa",
          "dash": "solid"
         },
         "marker": {
          "symbol": "circle"
         },
         "mode": "lines",
         "name": "",
         "orientation": "v",
         "showlegend": false,
         "type": "scatter",
         "x": [
          "2024-06-16 18:00:00",
          "2024-06-16 21:00:00",
          "2024-06-17 00:00:00",
          "2024-06-17 03:00:00",
          "2024-06-17 06:00:00",
          "2024-06-17 09:00:00",
          "2024-06-17 12:00:00",
          "2024-06-17 15:00:00",
          "2024-06-17 18:00:00",
          "2024-06-17 21:00:00",
          "2024-06-18 00:00:00",
          "2024-06-18 03:00:00",
          "2024-06-18 06:00:00",
          "2024-06-18 09:00:00",
          "2024-06-18 12:00:00",
          "2024-06-18 15:00:00",
          "2024-06-18 18:00:00",
          "2024-06-18 21:00:00",
          "2024-06-19 00:00:00",
          "2024-06-19 03:00:00",
          "2024-06-19 06:00:00",
          "2024-06-19 09:00:00",
          "2024-06-19 12:00:00",
          "2024-06-19 15:00:00",
          "2024-06-19 18:00:00",
          "2024-06-19 21:00:00",
          "2024-06-20 00:00:00",
          "2024-06-20 03:00:00",
          "2024-06-20 06:00:00",
          "2024-06-20 09:00:00",
          "2024-06-20 12:00:00",
          "2024-06-20 15:00:00",
          "2024-06-20 18:00:00",
          "2024-06-20 21:00:00",
          "2024-06-21 00:00:00",
          "2024-06-21 03:00:00",
          "2024-06-21 06:00:00",
          "2024-06-21 09:00:00",
          "2024-06-21 12:00:00",
          "2024-06-21 15:00:00"
         ],
         "xaxis": "x",
         "y": [
          28.11,
          27.44,
          27.61,
          32.86,
          34.97,
          31.49,
          30.39,
          28.45,
          27.35,
          26.59,
          27.91,
          32.82,
          36.19,
          32.89,
          30.47,
          28.88,
          27.68,
          26.72,
          27.95,
          33.2,
          35.12,
          32.34,
          30.98,
          28.86,
          27.72,
          26.37,
          27.5,
          32.71,
          35.74,
          32.2,
          29.95,
          27.45,
          24.48,
          25.05,
          25.31,
          26.95,
          26.78,
          27.05,
          25.78,
          25.43
         ],
         "yaxis": "y"
        }
       ],
       "layout": {
        "legend": {
         "tracegroupgap": 0
        },
        "template": {
         "data": {
          "bar": [
           {
            "error_x": {
             "color": "#2a3f5f"
            },
            "error_y": {
             "color": "#2a3f5f"
            },
            "marker": {
             "line": {
              "color": "#E5ECF6",
              "width": 0.5
             },
             "pattern": {
              "fillmode": "overlay",
              "size": 10,
              "solidity": 0.2
             }
            },
            "type": "bar"
           }
          ],
          "barpolar": [
           {
            "marker": {
             "line": {
              "color": "#E5ECF6",
              "width": 0.5
             },
             "pattern": {
              "fillmode": "overlay",
              "size": 10,
              "solidity": 0.2
             }
            },
            "type": "barpolar"
           }
          ],
          "carpet": [
           {
            "aaxis": {
             "endlinecolor": "#2a3f5f",
             "gridcolor": "white",
             "linecolor": "white",
             "minorgridcolor": "white",
             "startlinecolor": "#2a3f5f"
            },
            "baxis": {
             "endlinecolor": "#2a3f5f",
             "gridcolor": "white",
             "linecolor": "white",
             "minorgridcolor": "white",
             "startlinecolor": "#2a3f5f"
            },
            "type": "carpet"
           }
          ],
          "choropleth": [
           {
            "colorbar": {
             "outlinewidth": 0,
             "ticks": ""
            },
            "type": "choropleth"
           }
          ],
          "contour": [
           {
            "colorbar": {
             "outlinewidth": 0,
             "ticks": ""
            },
            "colorscale": [
             [
              0,
              "#0d0887"
             ],
             [
              0.1111111111111111,
              "#46039f"
             ],
             [
              0.2222222222222222,
              "#7201a8"
             ],
             [
              0.3333333333333333,
              "#9c179e"
             ],
             [
              0.4444444444444444,
              "#bd3786"
             ],
             [
              0.5555555555555556,
              "#d8576b"
             ],
             [
              0.6666666666666666,
              "#ed7953"
             ],
             [
              0.7777777777777778,
              "#fb9f3a"
             ],
             [
              0.8888888888888888,
              "#fdca26"
             ],
             [
              1,
              "#f0f921"
             ]
            ],
            "type": "contour"
           }
          ],
          "contourcarpet": [
           {
            "colorbar": {
             "outlinewidth": 0,
             "ticks": ""
            },
            "type": "contourcarpet"
           }
          ],
          "heatmap": [
           {
            "colorbar": {
             "outlinewidth": 0,
             "ticks": ""
            },
            "colorscale": [
             [
              0,
              "#0d0887"
             ],
             [
              0.1111111111111111,
              "#46039f"
             ],
             [
              0.2222222222222222,
              "#7201a8"
             ],
             [
              0.3333333333333333,
              "#9c179e"
             ],
             [
              0.4444444444444444,
              "#bd3786"
             ],
             [
              0.5555555555555556,
              "#d8576b"
             ],
             [
              0.6666666666666666,
              "#ed7953"
             ],
             [
              0.7777777777777778,
              "#fb9f3a"
             ],
             [
              0.8888888888888888,
              "#fdca26"
             ],
             [
              1,
              "#f0f921"
             ]
            ],
            "type": "heatmap"
           }
          ],
          "heatmapgl": [
           {
            "colorbar": {
             "outlinewidth": 0,
             "ticks": ""
            },
            "colorscale": [
             [
              0,
              "#0d0887"
             ],
             [
              0.1111111111111111,
              "#46039f"
             ],
             [
              0.2222222222222222,
              "#7201a8"
             ],
             [
              0.3333333333333333,
              "#9c179e"
             ],
             [
              0.4444444444444444,
              "#bd3786"
             ],
             [
              0.5555555555555556,
              "#d8576b"
             ],
             [
              0.6666666666666666,
              "#ed7953"
             ],
             [
              0.7777777777777778,
              "#fb9f3a"
             ],
             [
              0.8888888888888888,
              "#fdca26"
             ],
             [
              1,
              "#f0f921"
             ]
            ],
            "type": "heatmapgl"
           }
          ],
          "histogram": [
           {
            "marker": {
             "pattern": {
              "fillmode": "overlay",
              "size": 10,
              "solidity": 0.2
             }
            },
            "type": "histogram"
           }
          ],
          "histogram2d": [
           {
            "colorbar": {
             "outlinewidth": 0,
             "ticks": ""
            },
            "colorscale": [
             [
              0,
              "#0d0887"
             ],
             [
              0.1111111111111111,
              "#46039f"
             ],
             [
              0.2222222222222222,
              "#7201a8"
             ],
             [
              0.3333333333333333,
              "#9c179e"
             ],
             [
              0.4444444444444444,
              "#bd3786"
             ],
             [
              0.5555555555555556,
              "#d8576b"
             ],
             [
              0.6666666666666666,
              "#ed7953"
             ],
             [
              0.7777777777777778,
              "#fb9f3a"
             ],
             [
              0.8888888888888888,
              "#fdca26"
             ],
             [
              1,
              "#f0f921"
             ]
            ],
            "type": "histogram2d"
           }
          ],
          "histogram2dcontour": [
           {
            "colorbar": {
             "outlinewidth": 0,
             "ticks": ""
            },
            "colorscale": [
             [
              0,
              "#0d0887"
             ],
             [
              0.1111111111111111,
              "#46039f"
             ],
             [
              0.2222222222222222,
              "#7201a8"
             ],
             [
              0.3333333333333333,
              "#9c179e"
             ],
             [
              0.4444444444444444,
              "#bd3786"
             ],
             [
              0.5555555555555556,
              "#d8576b"
             ],
             [
              0.6666666666666666,
              "#ed7953"
             ],
             [
              0.7777777777777778,
              "#fb9f3a"
             ],
             [
              0.8888888888888888,
              "#fdca26"
             ],
             [
              1,
              "#f0f921"
             ]
            ],
            "type": "histogram2dcontour"
           }
          ],
          "mesh3d": [
           {
            "colorbar": {
             "outlinewidth": 0,
             "ticks": ""
            },
            "type": "mesh3d"
           }
          ],
          "parcoords": [
           {
            "line": {
             "colorbar": {
              "outlinewidth": 0,
              "ticks": ""
             }
            },
            "type": "parcoords"
           }
          ],
          "pie": [
           {
            "automargin": true,
            "type": "pie"
           }
          ],
          "scatter": [
           {
            "fillpattern": {
             "fillmode": "overlay",
             "size": 10,
             "solidity": 0.2
            },
            "type": "scatter"
           }
          ],
          "scatter3d": [
           {
            "line": {
             "colorbar": {
              "outlinewidth": 0,
              "ticks": ""
             }
            },
            "marker": {
             "colorbar": {
              "outlinewidth": 0,
              "ticks": ""
             }
            },
            "type": "scatter3d"
           }
          ],
          "scattercarpet": [
           {
            "marker": {
             "colorbar": {
              "outlinewidth": 0,
              "ticks": ""
             }
            },
            "type": "scattercarpet"
           }
          ],
          "scattergeo": [
           {
            "marker": {
             "colorbar": {
              "outlinewidth": 0,
              "ticks": ""
             }
            },
            "type": "scattergeo"
           }
          ],
          "scattergl": [
           {
            "marker": {
             "colorbar": {
              "outlinewidth": 0,
              "ticks": ""
             }
            },
            "type": "scattergl"
           }
          ],
          "scattermapbox": [
           {
            "marker": {
             "colorbar": {
              "outlinewidth": 0,
              "ticks": ""
             }
            },
            "type": "scattermapbox"
           }
          ],
          "scatterpolar": [
           {
            "marker": {
             "colorbar": {
              "outlinewidth": 0,
              "ticks": ""
             }
            },
            "type": "scatterpolar"
           }
          ],
          "scatterpolargl": [
           {
            "marker": {
             "colorbar": {
              "outlinewidth": 0,
              "ticks": ""
             }
            },
            "type": "scatterpolargl"
           }
          ],
          "scatterternary": [
           {
            "marker": {
             "colorbar": {
              "outlinewidth": 0,
              "ticks": ""
             }
            },
            "type": "scatterternary"
           }
          ],
          "surface": [
           {
            "colorbar": {
             "outlinewidth": 0,
             "ticks": ""
            },
            "colorscale": [
             [
              0,
              "#0d0887"
             ],
             [
              0.1111111111111111,
              "#46039f"
             ],
             [
              0.2222222222222222,
              "#7201a8"
             ],
             [
              0.3333333333333333,
              "#9c179e"
             ],
             [
              0.4444444444444444,
              "#bd3786"
             ],
             [
              0.5555555555555556,
              "#d8576b"
             ],
             [
              0.6666666666666666,
              "#ed7953"
             ],
             [
              0.7777777777777778,
              "#fb9f3a"
             ],
             [
              0.8888888888888888,
              "#fdca26"
             ],
             [
              1,
              "#f0f921"
             ]
            ],
            "type": "surface"
           }
          ],
          "table": [
           {
            "cells": {
             "fill": {
              "color": "#EBF0F8"
             },
             "line": {
              "color": "white"
             }
            },
            "header": {
             "fill": {
              "color": "#C8D4E3"
             },
             "line": {
              "color": "white"
             }
            },
            "type": "table"
           }
          ]
         },
         "layout": {
          "annotationdefaults": {
           "arrowcolor": "#2a3f5f",
           "arrowhead": 0,
           "arrowwidth": 1
          },
          "autotypenumbers": "strict",
          "coloraxis": {
           "colorbar": {
            "outlinewidth": 0,
            "ticks": ""
           }
          },
          "colorscale": {
           "diverging": [
            [
             0,
             "#8e0152"
            ],
            [
             0.1,
             "#c51b7d"
            ],
            [
             0.2,
             "#de77ae"
            ],
            [
             0.3,
             "#f1b6da"
            ],
            [
             0.4,
             "#fde0ef"
            ],
            [
             0.5,
             "#f7f7f7"
            ],
            [
             0.6,
             "#e6f5d0"
            ],
            [
             0.7,
             "#b8e186"
            ],
            [
             0.8,
             "#7fbc41"
            ],
            [
             0.9,
             "#4d9221"
            ],
            [
             1,
             "#276419"
            ]
           ],
           "sequential": [
            [
             0,
             "#0d0887"
            ],
            [
             0.1111111111111111,
             "#46039f"
            ],
            [
             0.2222222222222222,
             "#7201a8"
            ],
            [
             0.3333333333333333,
             "#9c179e"
            ],
            [
             0.4444444444444444,
             "#bd3786"
            ],
            [
             0.5555555555555556,
             "#d8576b"
            ],
            [
             0.6666666666666666,
             "#ed7953"
            ],
            [
             0.7777777777777778,
             "#fb9f3a"
            ],
            [
             0.8888888888888888,
             "#fdca26"
            ],
            [
             1,
             "#f0f921"
            ]
           ],
           "sequentialminus": [
            [
             0,
             "#0d0887"
            ],
            [
             0.1111111111111111,
             "#46039f"
            ],
            [
             0.2222222222222222,
             "#7201a8"
            ],
            [
             0.3333333333333333,
             "#9c179e"
            ],
            [
             0.4444444444444444,
             "#bd3786"
            ],
            [
             0.5555555555555556,
             "#d8576b"
            ],
            [
             0.6666666666666666,
             "#ed7953"
            ],
            [
             0.7777777777777778,
             "#fb9f3a"
            ],
            [
             0.8888888888888888,
             "#fdca26"
            ],
            [
             1,
             "#f0f921"
            ]
           ]
          },
          "colorway": [
           "#636efa",
           "#EF553B",
           "#00cc96",
           "#ab63fa",
           "#FFA15A",
           "#19d3f3",
           "#FF6692",
           "#B6E880",
           "#FF97FF",
           "#FECB52"
          ],
          "font": {
           "color": "#2a3f5f"
          },
          "geo": {
           "bgcolor": "white",
           "lakecolor": "white",
           "landcolor": "#E5ECF6",
           "showlakes": true,
           "showland": true,
           "subunitcolor": "white"
          },
          "hoverlabel": {
           "align": "left"
          },
          "hovermode": "closest",
          "mapbox": {
           "style": "light"
          },
          "paper_bgcolor": "white",
          "plot_bgcolor": "#E5ECF6",
          "polar": {
           "angularaxis": {
            "gridcolor": "white",
            "linecolor": "white",
            "ticks": ""
           },
           "bgcolor": "#E5ECF6",
           "radialaxis": {
            "gridcolor": "white",
            "linecolor": "white",
            "ticks": ""
           }
          },
          "scene": {
           "xaxis": {
            "backgroundcolor": "#E5ECF6",
            "gridcolor": "white",
            "gridwidth": 2,
            "linecolor": "white",
            "showbackground": true,
            "ticks": "",
            "zerolinecolor": "white"
           },
           "yaxis": {
            "backgroundcolor": "#E5ECF6",
            "gridcolor": "white",
            "gridwidth": 2,
            "linecolor": "white",
            "showbackground": true,
            "ticks": "",
            "zerolinecolor": "white"
           },
           "zaxis": {
            "backgroundcolor": "#E5ECF6",
            "gridcolor": "white",
            "gridwidth": 2,
            "linecolor": "white",
            "showbackground": true,
            "ticks": "",
            "zerolinecolor": "white"
           }
          },
          "shapedefaults": {
           "line": {
            "color": "#2a3f5f"
           }
          },
          "ternary": {
           "aaxis": {
            "gridcolor": "white",
            "linecolor": "white",
            "ticks": ""
           },
           "baxis": {
            "gridcolor": "white",
            "linecolor": "white",
            "ticks": ""
           },
           "bgcolor": "#E5ECF6",
           "caxis": {
            "gridcolor": "white",
            "linecolor": "white",
            "ticks": ""
           }
          },
          "title": {
           "x": 0.05
          },
          "xaxis": {
           "automargin": true,
           "gridcolor": "white",
           "linecolor": "white",
           "ticks": "",
           "title": {
            "standoff": 15
           },
           "zerolinecolor": "white",
           "zerolinewidth": 2
          },
          "yaxis": {
           "automargin": true,
           "gridcolor": "white",
           "linecolor": "white",
           "ticks": "",
           "title": {
            "standoff": 15
           },
           "zerolinecolor": "white",
           "zerolinewidth": 2
          }
         }
        },
        "title": {
         "text": "5-Day Weather Forecast for Ho Chi Minh City"
        },
        "xaxis": {
         "anchor": "y",
         "domain": [
          0,
          1
         ],
         "title": {
          "text": "Date"
         }
        },
        "yaxis": {
         "anchor": "x",
         "domain": [
          0,
          1
         ],
         "title": {
          "text": "Temperature"
         }
        }
       }
      }
     },
     "metadata": {},
     "output_type": "display_data"
    }
   ],
   "source": [
    "\n",
    "# Plot the data using Plotly Express\n",
    "fig = px.line(df, x='Date', y='Temperature', title=f'5-Day Weather Forecast for {CITY_NAME}')\n",
    "fig.show()"
   ]
  }
 ],
 "metadata": {
  "kernelspec": {
   "display_name": "Python 3",
   "language": "python",
   "name": "python3"
  },
  "language_info": {
   "codemirror_mode": {
    "name": "ipython",
    "version": 3
   },
   "file_extension": ".py",
   "mimetype": "text/x-python",
   "name": "python",
   "nbconvert_exporter": "python",
   "pygments_lexer": "ipython3",
   "version": "3.10.12"
  }
 },
 "nbformat": 4,
 "nbformat_minor": 2
}
